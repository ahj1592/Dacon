{
  "nbformat": 4,
  "nbformat_minor": 0,
  "metadata": {
    "colab": {
      "name": "Dacon_airline_0216_ver1.ipynb",
      "provenance": []
    },
    "kernelspec": {
      "name": "python3",
      "display_name": "Python 3"
    },
    "language_info": {
      "name": "python"
    },
    "accelerator": "GPU"
  },
  "cells": [
    {
      "cell_type": "code",
      "execution_count": 1,
      "metadata": {
        "colab": {
          "base_uri": "https://localhost:8080/"
        },
        "id": "trNiv5DfOWaX",
        "outputId": "c6948f02-c4a1-45cb-b4d5-4cb347ea8625"
      },
      "outputs": [
        {
          "output_type": "stream",
          "name": "stdout",
          "text": [
            "Mounted at /content/gdrive/\n"
          ]
        }
      ],
      "source": [
        "from google.colab import drive \n",
        "drive.mount('/content/gdrive/')"
      ]
    },
    {
      "cell_type": "code",
      "source": [
        "!unzip /content/gdrive/MyDrive/Dacon/airline/airline_dataset.zip"
      ],
      "metadata": {
        "colab": {
          "base_uri": "https://localhost:8080/"
        },
        "id": "6Tizu0CzOfjJ",
        "outputId": "e9227ec6-087a-4173-c4c7-112c12efb3a7"
      },
      "execution_count": 2,
      "outputs": [
        {
          "output_type": "stream",
          "name": "stdout",
          "text": [
            "Archive:  /content/gdrive/MyDrive/Dacon/airline/airline_dataset.zip\n",
            "  inflating: sample_submission.csv   \n",
            "  inflating: test.csv                \n",
            "  inflating: train.csv               \n"
          ]
        }
      ]
    },
    {
      "cell_type": "code",
      "source": [
        "!pip install catboost"
      ],
      "metadata": {
        "colab": {
          "base_uri": "https://localhost:8080/"
        },
        "id": "klAtk_4Y-82c",
        "outputId": "b5b5afbd-02cb-45d7-9a20-086ebfe0f911"
      },
      "execution_count": 4,
      "outputs": [
        {
          "output_type": "stream",
          "name": "stdout",
          "text": [
            "Collecting catboost\n",
            "  Downloading catboost-1.0.4-cp37-none-manylinux1_x86_64.whl (76.1 MB)\n",
            "\u001b[K     |████████████████████████████████| 76.1 MB 1.2 MB/s \n",
            "\u001b[?25hRequirement already satisfied: six in /usr/local/lib/python3.7/dist-packages (from catboost) (1.15.0)\n",
            "Requirement already satisfied: plotly in /usr/local/lib/python3.7/dist-packages (from catboost) (5.5.0)\n",
            "Requirement already satisfied: matplotlib in /usr/local/lib/python3.7/dist-packages (from catboost) (3.2.2)\n",
            "Requirement already satisfied: scipy in /usr/local/lib/python3.7/dist-packages (from catboost) (1.4.1)\n",
            "Requirement already satisfied: graphviz in /usr/local/lib/python3.7/dist-packages (from catboost) (0.10.1)\n",
            "Requirement already satisfied: pandas>=0.24.0 in /usr/local/lib/python3.7/dist-packages (from catboost) (1.3.5)\n",
            "Requirement already satisfied: numpy>=1.16.0 in /usr/local/lib/python3.7/dist-packages (from catboost) (1.21.5)\n",
            "Requirement already satisfied: pytz>=2017.3 in /usr/local/lib/python3.7/dist-packages (from pandas>=0.24.0->catboost) (2018.9)\n",
            "Requirement already satisfied: python-dateutil>=2.7.3 in /usr/local/lib/python3.7/dist-packages (from pandas>=0.24.0->catboost) (2.8.2)\n",
            "Requirement already satisfied: kiwisolver>=1.0.1 in /usr/local/lib/python3.7/dist-packages (from matplotlib->catboost) (1.3.2)\n",
            "Requirement already satisfied: pyparsing!=2.0.4,!=2.1.2,!=2.1.6,>=2.0.1 in /usr/local/lib/python3.7/dist-packages (from matplotlib->catboost) (3.0.7)\n",
            "Requirement already satisfied: cycler>=0.10 in /usr/local/lib/python3.7/dist-packages (from matplotlib->catboost) (0.11.0)\n",
            "Requirement already satisfied: tenacity>=6.2.0 in /usr/local/lib/python3.7/dist-packages (from plotly->catboost) (8.0.1)\n",
            "Installing collected packages: catboost\n",
            "Successfully installed catboost-1.0.4\n"
          ]
        }
      ]
    },
    {
      "cell_type": "code",
      "source": [
        "import warnings\n",
        "warnings.filterwarnings(action='ignore')\n",
        "\n",
        "import numpy as np\n",
        "import pandas as pd\n",
        "pd.set_option('display.max_columns', None)\n",
        "from pandas.api.types import is_numeric_dtype, is_categorical_dtype\n",
        "\n",
        "import matplotlib.pyplot as plt\n",
        "import seaborn as sns\n",
        "\n",
        "import os\n",
        "import sys\n",
        "import random\n",
        "\n",
        "from sklearn import preprocessing\n",
        "from sklearn.metrics import accuracy_score\n",
        "from sklearn.model_selection import StratifiedKFold\n",
        "from sklearn.model_selection import GridSearchCV\n",
        "from sklearn.ensemble import RandomForestClassifier\n",
        "\n",
        "from tqdm import tqdm\n",
        "from catboost import CatBoostClassifier"
      ],
      "metadata": {
        "id": "Wsi9Vb-8O7XE"
      },
      "execution_count": 5,
      "outputs": []
    },
    {
      "cell_type": "code",
      "source": [
        "print('Load data...')\n",
        "df_train = pd.read_csv('train.csv')\n",
        "df_test = pd.read_csv('test.csv')\n",
        "\n",
        "df_train = df_train.drop('id', axis=1)\n",
        "df_test = df_test.drop('id', axis=1)\n",
        "\n",
        "print('The shape of train:', df_train.shape)\n",
        "print('The shape of test :', df_test.shape)"
      ],
      "metadata": {
        "colab": {
          "base_uri": "https://localhost:8080/"
        },
        "id": "IyqQHI6hPLLv",
        "outputId": "df2c8067-a4e1-40ef-9fb8-dec16f8d441d"
      },
      "execution_count": 6,
      "outputs": [
        {
          "output_type": "stream",
          "name": "stdout",
          "text": [
            "Load data...\n",
            "The shape of train: (3000, 23)\n",
            "The shape of test : (2000, 22)\n"
          ]
        }
      ]
    },
    {
      "cell_type": "code",
      "source": [
        "df_train.head(2)"
      ],
      "metadata": {
        "colab": {
          "base_uri": "https://localhost:8080/",
          "height": 263
        },
        "id": "I9YxfXNCPby1",
        "outputId": "0d4ba101-b16e-4a57-cac9-30917de451d1"
      },
      "execution_count": 7,
      "outputs": [
        {
          "output_type": "execute_result",
          "data": {
            "text/html": [
              "\n",
              "  <div id=\"df-ba0f6344-3692-4950-9417-b4f624331d86\">\n",
              "    <div class=\"colab-df-container\">\n",
              "      <div>\n",
              "<style scoped>\n",
              "    .dataframe tbody tr th:only-of-type {\n",
              "        vertical-align: middle;\n",
              "    }\n",
              "\n",
              "    .dataframe tbody tr th {\n",
              "        vertical-align: top;\n",
              "    }\n",
              "\n",
              "    .dataframe thead th {\n",
              "        text-align: right;\n",
              "    }\n",
              "</style>\n",
              "<table border=\"1\" class=\"dataframe\">\n",
              "  <thead>\n",
              "    <tr style=\"text-align: right;\">\n",
              "      <th></th>\n",
              "      <th>Gender</th>\n",
              "      <th>Customer Type</th>\n",
              "      <th>Age</th>\n",
              "      <th>Type of Travel</th>\n",
              "      <th>Class</th>\n",
              "      <th>Flight Distance</th>\n",
              "      <th>Seat comfort</th>\n",
              "      <th>Departure/Arrival time convenient</th>\n",
              "      <th>Food and drink</th>\n",
              "      <th>Gate location</th>\n",
              "      <th>Inflight wifi service</th>\n",
              "      <th>Inflight entertainment</th>\n",
              "      <th>Online support</th>\n",
              "      <th>Ease of Online booking</th>\n",
              "      <th>On-board service</th>\n",
              "      <th>Leg room service</th>\n",
              "      <th>Baggage handling</th>\n",
              "      <th>Checkin service</th>\n",
              "      <th>Cleanliness</th>\n",
              "      <th>Online boarding</th>\n",
              "      <th>Departure Delay in Minutes</th>\n",
              "      <th>Arrival Delay in Minutes</th>\n",
              "      <th>target</th>\n",
              "    </tr>\n",
              "  </thead>\n",
              "  <tbody>\n",
              "    <tr>\n",
              "      <th>0</th>\n",
              "      <td>Female</td>\n",
              "      <td>disloyal Customer</td>\n",
              "      <td>22</td>\n",
              "      <td>Business travel</td>\n",
              "      <td>Eco</td>\n",
              "      <td>1599</td>\n",
              "      <td>3</td>\n",
              "      <td>0</td>\n",
              "      <td>3</td>\n",
              "      <td>3</td>\n",
              "      <td>4</td>\n",
              "      <td>3</td>\n",
              "      <td>4</td>\n",
              "      <td>4</td>\n",
              "      <td>5</td>\n",
              "      <td>4</td>\n",
              "      <td>4</td>\n",
              "      <td>4</td>\n",
              "      <td>5</td>\n",
              "      <td>4</td>\n",
              "      <td>0</td>\n",
              "      <td>0.0</td>\n",
              "      <td>0</td>\n",
              "    </tr>\n",
              "    <tr>\n",
              "      <th>1</th>\n",
              "      <td>Female</td>\n",
              "      <td>Loyal Customer</td>\n",
              "      <td>37</td>\n",
              "      <td>Business travel</td>\n",
              "      <td>Business</td>\n",
              "      <td>2810</td>\n",
              "      <td>2</td>\n",
              "      <td>4</td>\n",
              "      <td>4</td>\n",
              "      <td>4</td>\n",
              "      <td>1</td>\n",
              "      <td>4</td>\n",
              "      <td>3</td>\n",
              "      <td>5</td>\n",
              "      <td>5</td>\n",
              "      <td>4</td>\n",
              "      <td>2</td>\n",
              "      <td>1</td>\n",
              "      <td>5</td>\n",
              "      <td>2</td>\n",
              "      <td>18</td>\n",
              "      <td>18.0</td>\n",
              "      <td>0</td>\n",
              "    </tr>\n",
              "  </tbody>\n",
              "</table>\n",
              "</div>\n",
              "      <button class=\"colab-df-convert\" onclick=\"convertToInteractive('df-ba0f6344-3692-4950-9417-b4f624331d86')\"\n",
              "              title=\"Convert this dataframe to an interactive table.\"\n",
              "              style=\"display:none;\">\n",
              "        \n",
              "  <svg xmlns=\"http://www.w3.org/2000/svg\" height=\"24px\"viewBox=\"0 0 24 24\"\n",
              "       width=\"24px\">\n",
              "    <path d=\"M0 0h24v24H0V0z\" fill=\"none\"/>\n",
              "    <path d=\"M18.56 5.44l.94 2.06.94-2.06 2.06-.94-2.06-.94-.94-2.06-.94 2.06-2.06.94zm-11 1L8.5 8.5l.94-2.06 2.06-.94-2.06-.94L8.5 2.5l-.94 2.06-2.06.94zm10 10l.94 2.06.94-2.06 2.06-.94-2.06-.94-.94-2.06-.94 2.06-2.06.94z\"/><path d=\"M17.41 7.96l-1.37-1.37c-.4-.4-.92-.59-1.43-.59-.52 0-1.04.2-1.43.59L10.3 9.45l-7.72 7.72c-.78.78-.78 2.05 0 2.83L4 21.41c.39.39.9.59 1.41.59.51 0 1.02-.2 1.41-.59l7.78-7.78 2.81-2.81c.8-.78.8-2.07 0-2.86zM5.41 20L4 18.59l7.72-7.72 1.47 1.35L5.41 20z\"/>\n",
              "  </svg>\n",
              "      </button>\n",
              "      \n",
              "  <style>\n",
              "    .colab-df-container {\n",
              "      display:flex;\n",
              "      flex-wrap:wrap;\n",
              "      gap: 12px;\n",
              "    }\n",
              "\n",
              "    .colab-df-convert {\n",
              "      background-color: #E8F0FE;\n",
              "      border: none;\n",
              "      border-radius: 50%;\n",
              "      cursor: pointer;\n",
              "      display: none;\n",
              "      fill: #1967D2;\n",
              "      height: 32px;\n",
              "      padding: 0 0 0 0;\n",
              "      width: 32px;\n",
              "    }\n",
              "\n",
              "    .colab-df-convert:hover {\n",
              "      background-color: #E2EBFA;\n",
              "      box-shadow: 0px 1px 2px rgba(60, 64, 67, 0.3), 0px 1px 3px 1px rgba(60, 64, 67, 0.15);\n",
              "      fill: #174EA6;\n",
              "    }\n",
              "\n",
              "    [theme=dark] .colab-df-convert {\n",
              "      background-color: #3B4455;\n",
              "      fill: #D2E3FC;\n",
              "    }\n",
              "\n",
              "    [theme=dark] .colab-df-convert:hover {\n",
              "      background-color: #434B5C;\n",
              "      box-shadow: 0px 1px 3px 1px rgba(0, 0, 0, 0.15);\n",
              "      filter: drop-shadow(0px 1px 2px rgba(0, 0, 0, 0.3));\n",
              "      fill: #FFFFFF;\n",
              "    }\n",
              "  </style>\n",
              "\n",
              "      <script>\n",
              "        const buttonEl =\n",
              "          document.querySelector('#df-ba0f6344-3692-4950-9417-b4f624331d86 button.colab-df-convert');\n",
              "        buttonEl.style.display =\n",
              "          google.colab.kernel.accessAllowed ? 'block' : 'none';\n",
              "\n",
              "        async function convertToInteractive(key) {\n",
              "          const element = document.querySelector('#df-ba0f6344-3692-4950-9417-b4f624331d86');\n",
              "          const dataTable =\n",
              "            await google.colab.kernel.invokeFunction('convertToInteractive',\n",
              "                                                     [key], {});\n",
              "          if (!dataTable) return;\n",
              "\n",
              "          const docLinkHtml = 'Like what you see? Visit the ' +\n",
              "            '<a target=\"_blank\" href=https://colab.research.google.com/notebooks/data_table.ipynb>data table notebook</a>'\n",
              "            + ' to learn more about interactive tables.';\n",
              "          element.innerHTML = '';\n",
              "          dataTable['output_type'] = 'display_data';\n",
              "          await google.colab.output.renderOutput(dataTable, element);\n",
              "          const docLink = document.createElement('div');\n",
              "          docLink.innerHTML = docLinkHtml;\n",
              "          element.appendChild(docLink);\n",
              "        }\n",
              "      </script>\n",
              "    </div>\n",
              "  </div>\n",
              "  "
            ],
            "text/plain": [
              "   Gender      Customer Type  Age   Type of Travel     Class  Flight Distance  \\\n",
              "0  Female  disloyal Customer   22  Business travel       Eco             1599   \n",
              "1  Female     Loyal Customer   37  Business travel  Business             2810   \n",
              "\n",
              "   Seat comfort  Departure/Arrival time convenient  Food and drink  \\\n",
              "0             3                                  0               3   \n",
              "1             2                                  4               4   \n",
              "\n",
              "   Gate location  Inflight wifi service  Inflight entertainment  \\\n",
              "0              3                      4                       3   \n",
              "1              4                      1                       4   \n",
              "\n",
              "   Online support  Ease of Online booking  On-board service  Leg room service  \\\n",
              "0               4                       4                 5                 4   \n",
              "1               3                       5                 5                 4   \n",
              "\n",
              "   Baggage handling  Checkin service  Cleanliness  Online boarding  \\\n",
              "0                 4                4            5                4   \n",
              "1                 2                1            5                2   \n",
              "\n",
              "   Departure Delay in Minutes  Arrival Delay in Minutes  target  \n",
              "0                           0                       0.0       0  \n",
              "1                          18                      18.0       0  "
            ]
          },
          "metadata": {},
          "execution_count": 7
        }
      ]
    },
    {
      "cell_type": "code",
      "source": [
        "df_train.info()"
      ],
      "metadata": {
        "colab": {
          "base_uri": "https://localhost:8080/"
        },
        "id": "qq5EAWXfPdG6",
        "outputId": "a7c35ceb-062a-41fb-e092-c0303dce0dba"
      },
      "execution_count": 8,
      "outputs": [
        {
          "output_type": "stream",
          "name": "stdout",
          "text": [
            "<class 'pandas.core.frame.DataFrame'>\n",
            "RangeIndex: 3000 entries, 0 to 2999\n",
            "Data columns (total 23 columns):\n",
            " #   Column                             Non-Null Count  Dtype  \n",
            "---  ------                             --------------  -----  \n",
            " 0   Gender                             3000 non-null   object \n",
            " 1   Customer Type                      3000 non-null   object \n",
            " 2   Age                                3000 non-null   int64  \n",
            " 3   Type of Travel                     3000 non-null   object \n",
            " 4   Class                              3000 non-null   object \n",
            " 5   Flight Distance                    3000 non-null   int64  \n",
            " 6   Seat comfort                       3000 non-null   int64  \n",
            " 7   Departure/Arrival time convenient  3000 non-null   int64  \n",
            " 8   Food and drink                     3000 non-null   int64  \n",
            " 9   Gate location                      3000 non-null   int64  \n",
            " 10  Inflight wifi service              3000 non-null   int64  \n",
            " 11  Inflight entertainment             3000 non-null   int64  \n",
            " 12  Online support                     3000 non-null   int64  \n",
            " 13  Ease of Online booking             3000 non-null   int64  \n",
            " 14  On-board service                   3000 non-null   int64  \n",
            " 15  Leg room service                   3000 non-null   int64  \n",
            " 16  Baggage handling                   3000 non-null   int64  \n",
            " 17  Checkin service                    3000 non-null   int64  \n",
            " 18  Cleanliness                        3000 non-null   int64  \n",
            " 19  Online boarding                    3000 non-null   int64  \n",
            " 20  Departure Delay in Minutes         3000 non-null   int64  \n",
            " 21  Arrival Delay in Minutes           3000 non-null   float64\n",
            " 22  target                             3000 non-null   int64  \n",
            "dtypes: float64(1), int64(18), object(4)\n",
            "memory usage: 539.2+ KB\n"
          ]
        }
      ]
    },
    {
      "cell_type": "code",
      "source": [
        "print('The number of unique values')\n",
        "for col in df_train.columns:\n",
        "    print(f'\\t{col}: {df_train[col].nunique()}')"
      ],
      "metadata": {
        "colab": {
          "base_uri": "https://localhost:8080/"
        },
        "id": "D1cFA-_JPhIb",
        "outputId": "f81cc923-b9ec-4eed-ff23-4f8658629095"
      },
      "execution_count": 9,
      "outputs": [
        {
          "output_type": "stream",
          "name": "stdout",
          "text": [
            "The number of unique values\n",
            "\tGender: 2\n",
            "\tCustomer Type: 2\n",
            "\tAge: 72\n",
            "\tType of Travel: 2\n",
            "\tClass: 3\n",
            "\tFlight Distance: 2012\n",
            "\tSeat comfort: 6\n",
            "\tDeparture/Arrival time convenient: 6\n",
            "\tFood and drink: 6\n",
            "\tGate location: 5\n",
            "\tInflight wifi service: 6\n",
            "\tInflight entertainment: 6\n",
            "\tOnline support: 5\n",
            "\tEase of Online booking: 6\n",
            "\tOn-board service: 5\n",
            "\tLeg room service: 6\n",
            "\tBaggage handling: 5\n",
            "\tCheckin service: 5\n",
            "\tCleanliness: 5\n",
            "\tOnline boarding: 6\n",
            "\tDeparture Delay in Minutes: 169\n",
            "\tArrival Delay in Minutes: 176\n",
            "\ttarget: 2\n"
          ]
        }
      ]
    },
    {
      "cell_type": "markdown",
      "source": [
        "n_unique < 10 이면 categorical feature로 간주"
      ],
      "metadata": {
        "id": "jr9HinqCP0Dr"
      }
    },
    {
      "cell_type": "code",
      "source": [
        "cat_features = [] # categorical features\n",
        "num_features = [] # numeric features\n",
        "\n",
        "for f in df_train.columns:\n",
        "    if df_train[f].nunique() < 10:\n",
        "        cat_features.append(f)\n",
        "        #df_train[f] = df_train[f].astype(np.object)\n",
        "    else:\n",
        "        num_features.append(f)\n",
        "\n",
        "\n",
        "print(f'Categorical Features: size: {len(cat_features)}, {cat_features}')\n",
        "print(f'Numeric Features: size: {len(num_features)}, {num_features}')"
      ],
      "metadata": {
        "colab": {
          "base_uri": "https://localhost:8080/"
        },
        "id": "Q5ePqREFPw_w",
        "outputId": "4f9dd276-5f3e-4c17-ea20-20732af30ef3"
      },
      "execution_count": 10,
      "outputs": [
        {
          "output_type": "stream",
          "name": "stdout",
          "text": [
            "Categorical Features: size: 19, ['Gender', 'Customer Type', 'Type of Travel', 'Class', 'Seat comfort', 'Departure/Arrival time convenient', 'Food and drink', 'Gate location', 'Inflight wifi service', 'Inflight entertainment', 'Online support', 'Ease of Online booking', 'On-board service', 'Leg room service', 'Baggage handling', 'Checkin service', 'Cleanliness', 'Online boarding', 'target']\n",
            "Numeric Features: size: 4, ['Age', 'Flight Distance', 'Departure Delay in Minutes', 'Arrival Delay in Minutes']\n"
          ]
        }
      ]
    },
    {
      "cell_type": "markdown",
      "source": [
        "# EDA - Categorical Features"
      ],
      "metadata": {
        "id": "9FcM35L_5xG-"
      }
    },
    {
      "cell_type": "code",
      "source": [
        "for f in cat_features:\n",
        "    sns.catplot(data=df_train, col='target', x=f, kind='count')\n",
        "    plt.show()"
      ],
      "metadata": {
        "colab": {
          "base_uri": "https://localhost:8080/",
          "height": 1000
        },
        "id": "fvGa_D0BRMxz",
        "outputId": "022ebe71-70a5-4667-ae89-7017842753f3"
      },
      "execution_count": 11,
      "outputs": [
        {
          "output_type": "display_data",
          "data": {
            "image/png": "[encoded data removed]",
            "text/plain": [
              "<Figure size 720x360 with 2 Axes>"
            ]
          },
          "metadata": {
            "needs_background": "light"
          }
        },
        {
          "output_type": "display_data",
          "data": {
            "image/png": "[encoded data removed]",
            "text/plain": [
              "<Figure size 720x360 with 2 Axes>"
            ]
          },
          "metadata": {
            "needs_background": "light"
          }
        },
        {
          "output_type": "display_data",
          "data": {
            "image/png": "[encoded data removed]",
            "text/plain": [
              "<Figure size 720x360 with 2 Axes>"
            ]
          },
          "metadata": {
            "needs_background": "light"
          }
        },
        {
          "output_type": "display_data",
          "data": {
            "image/png": "[encoded data removed]",
            "text/plain": [
              "<Figure size 720x360 with 2 Axes>"
            ]
          },
          "metadata": {
            "needs_background": "light"
          }
        },
        {
          "output_type": "display_data",
          "data": {
            "image/png": "[encoded data removed]",
            "text/plain": [
              "<Figure size 720x360 with 2 Axes>"
            ]
          },
          "metadata": {
            "needs_background": "light"
          }
        },
        {
          "output_type": "display_data",
          "data": {
            "image/png": "[encoded data removed]",
            "text/plain": [
              "<Figure size 720x360 with 2 Axes>"
            ]
          },
          "metadata": {
            "needs_background": "light"
          }
        },
        {
          "output_type": "display_data",
          "data": {
            "image/png": "[encoded data removed]",
            "text/plain": [
              "<Figure size 720x360 with 2 Axes>"
            ]
          },
          "metadata": {
            "needs_background": "light"
          }
        },
        {
          "output_type": "display_data",
          "data": {
            "image/png": "[encoded data removed]",
            "text/plain": [
              "<Figure size 720x360 with 2 Axes>"
            ]
          },
          "metadata": {
            "needs_background": "light"
          }
        },
        {
          "output_type": "display_data",
          "data": {
            "image/png": "[encoded data removed]",
            "text/plain": [
              "<Figure size 720x360 with 2 Axes>"
            ]
          },
          "metadata": {
            "needs_background": "light"
          }
        },
        {
          "output_type": "display_data",
          "data": {
            "image/png": "[encoded data removed]",
            "text/plain": [
              "<Figure size 720x360 with 2 Axes>"
            ]
          },
          "metadata": {
            "needs_background": "light"
          }
        },
        {
          "output_type": "display_data",
          "data": {
            "image/png": "[encoded data removed]",
            "text/plain": [
              "<Figure size 720x360 with 2 Axes>"
            ]
          },
          "metadata": {
            "needs_background": "light"
          }
        },
        {
          "output_type": "display_data",
          "data": {
            "image/png": "[encoded data removed]",
            "text/plain": [
              "<Figure size 720x360 with 2 Axes>"
            ]
          },
          "metadata": {
            "needs_background": "light"
          }
        },
        {
          "output_type": "display_data",
          "data": {
            "image/png": "[encoded data removed]",
            "text/plain": [
              "<Figure size 720x360 with 2 Axes>"
            ]
          },
          "metadata": {
            "needs_background": "light"
          }
        },
        {
          "output_type": "display_data",
          "data": {
            "image/png": "[encoded data removed]",
            "text/plain": [
              "<Figure size 720x360 with 2 Axes>"
            ]
          },
          "metadata": {
            "needs_background": "light"
          }
        },
        {
          "output_type": "display_data",
          "data": {
            "image/png": "[encoded data removed]",
            "text/plain": [
              "<Figure size 720x360 with 2 Axes>"
            ]
          },
          "metadata": {
            "needs_background": "light"
          }
        },
        {
          "output_type": "display_data",
          "data": {
            "image/png": "[encoded data removed]",
            "text/plain": [
              "<Figure size 720x360 with 2 Axes>"
            ]
          },
          "metadata": {
            "needs_background": "light"
          }
        },
        {
          "output_type": "display_data",
          "data": {
            "image/png": "[encoded data removed]",
            "text/plain": [
              "<Figure size 720x360 with 2 Axes>"
            ]
          },
          "metadata": {
            "needs_background": "light"
          }
        },
        {
          "output_type": "display_data",
          "data": {
            "image/png": "[encoded data removed]",
            "text/plain": [
              "<Figure size 720x360 with 2 Axes>"
            ]
          },
          "metadata": {
            "needs_background": "light"
          }
        },
        {
          "output_type": "display_data",
          "data": {
            "image/png": "[encoded data removed]",
            "text/plain": [
              "<Figure size 720x360 with 2 Axes>"
            ]
          },
          "metadata": {
            "needs_background": "light"
          }
        }
      ]
    },
    {
      "cell_type": "markdown",
      "source": [
        "## target 비율 보기"
      ],
      "metadata": {
        "id": "-Xf3I4IM7Lhs"
      }
    },
    {
      "cell_type": "code",
      "source": [
        "for f in cat_features:\n",
        "    print(df_train['target'].groupby(df_train[f]).mean().sort_index())\n",
        "    print()"
      ],
      "metadata": {
        "colab": {
          "base_uri": "https://localhost:8080/"
        },
        "id": "Zfs5UVQEIZh6",
        "outputId": "ca9f4f00-828a-4882-d347-447acbb45228"
      },
      "execution_count": 12,
      "outputs": [
        {
          "output_type": "stream",
          "name": "stdout",
          "text": [
            "Gender\n",
            "Female    0.67223\n",
            "Male      0.44008\n",
            "Name: target, dtype: float64\n",
            "\n",
            "Customer Type\n",
            "Loyal Customer       0.617115\n",
            "disloyal Customer    0.258317\n",
            "Name: target, dtype: float64\n",
            "\n",
            "Type of Travel\n",
            "Business travel    0.601072\n",
            "Personal Travel    0.458289\n",
            "Name: target, dtype: float64\n",
            "\n",
            "Class\n",
            "Business    0.711994\n",
            "Eco         0.408377\n",
            "Eco Plus    0.441048\n",
            "Name: target, dtype: float64\n",
            "\n",
            "Seat comfort\n",
            "0    0.990566\n",
            "1    0.430672\n",
            "2    0.349618\n",
            "3    0.395588\n",
            "4    0.660522\n",
            "5    0.995370\n",
            "Name: target, dtype: float64\n",
            "\n",
            "Departure/Arrival time convenient\n",
            "0    0.584416\n",
            "1    0.584989\n",
            "2    0.521576\n",
            "3    0.558719\n",
            "4    0.558559\n",
            "5    0.552215\n",
            "Name: target, dtype: float64\n",
            "\n",
            "Food and drink\n",
            "0    0.829457\n",
            "1    0.500000\n",
            "2    0.427184\n",
            "3    0.427300\n",
            "4    0.607256\n",
            "5    0.821656\n",
            "Name: target, dtype: float64\n",
            "\n",
            "Gate location\n",
            "1    0.611336\n",
            "2    0.594982\n",
            "3    0.454432\n",
            "4    0.530086\n",
            "5    0.668151\n",
            "Name: target, dtype: float64\n",
            "\n",
            "Inflight wifi service\n",
            "0    0.000000\n",
            "1    0.272455\n",
            "2    0.513219\n",
            "3    0.482587\n",
            "4    0.660811\n",
            "5    0.688791\n",
            "Name: target, dtype: float64\n",
            "\n",
            "Inflight entertainment\n",
            "0    0.753425\n",
            "1    0.222615\n",
            "2    0.144124\n",
            "3    0.221631\n",
            "4    0.748187\n",
            "5    0.960843\n",
            "Name: target, dtype: float64\n",
            "\n",
            "Online support\n",
            "1    0.288184\n",
            "2    0.274933\n",
            "3    0.283096\n",
            "4    0.703593\n",
            "5    0.788340\n",
            "Name: target, dtype: float64\n",
            "\n",
            "Ease of Online booking\n",
            "0    0.000000\n",
            "1    0.175325\n",
            "2    0.282222\n",
            "3    0.362903\n",
            "4    0.727273\n",
            "5    0.775381\n",
            "Name: target, dtype: float64\n",
            "\n",
            "On-board service\n",
            "1    0.277603\n",
            "2    0.331551\n",
            "3    0.413793\n",
            "4    0.641293\n",
            "5    0.780519\n",
            "Name: target, dtype: float64\n",
            "\n",
            "Leg room service\n",
            "0    0.818182\n",
            "1    0.275591\n",
            "2    0.394118\n",
            "3    0.353282\n",
            "4    0.697137\n",
            "5    0.715895\n",
            "Name: target, dtype: float64\n",
            "\n",
            "Baggage handling\n",
            "1    0.417582\n",
            "2    0.451724\n",
            "3    0.336347\n",
            "4    0.587387\n",
            "5    0.720231\n",
            "Name: target, dtype: float64\n",
            "\n",
            "Checkin service\n",
            "1    0.371257\n",
            "2    0.324251\n",
            "3    0.558714\n",
            "4    0.592814\n",
            "5    0.729771\n",
            "Name: target, dtype: float64\n",
            "\n",
            "Cleanliness\n",
            "1    0.481675\n",
            "2    0.379661\n",
            "3    0.337255\n",
            "4    0.581659\n",
            "5    0.728754\n",
            "Name: target, dtype: float64\n",
            "\n",
            "Online boarding\n",
            "0    0.000000\n",
            "1    0.266854\n",
            "2    0.270531\n",
            "3    0.556338\n",
            "4    0.664286\n",
            "5    0.748159\n",
            "Name: target, dtype: float64\n",
            "\n",
            "target\n",
            "0    0.0\n",
            "1    1.0\n",
            "Name: target, dtype: float64\n",
            "\n"
          ]
        }
      ]
    },
    {
      "cell_type": "markdown",
      "source": [
        "# 분포가 비슷하면 중요하지 않은 feature로 간주"
      ],
      "metadata": {
        "id": "90TktMnvY7Rp"
      }
    },
    {
      "cell_type": "code",
      "source": [
        "remove_cat_features = ['Departure/Arrival time convenient', 'target']\n",
        "selected_cat_features = []\n",
        "for f in cat_features:\n",
        "    if f not in remove_cat_features:\n",
        "        selected_cat_features.append(f)\n",
        "print(len(selected_cat_features), selected_cat_features)"
      ],
      "metadata": {
        "colab": {
          "base_uri": "https://localhost:8080/"
        },
        "id": "FEfwNKukTsr5",
        "outputId": "2587b085-77ca-4c42-dd96-4e8df8ad5096"
      },
      "execution_count": 13,
      "outputs": [
        {
          "output_type": "stream",
          "name": "stdout",
          "text": [
            "17 ['Gender', 'Customer Type', 'Type of Travel', 'Class', 'Seat comfort', 'Food and drink', 'Gate location', 'Inflight wifi service', 'Inflight entertainment', 'Online support', 'Ease of Online booking', 'On-board service', 'Leg room service', 'Baggage handling', 'Checkin service', 'Cleanliness', 'Online boarding']\n"
          ]
        }
      ]
    },
    {
      "cell_type": "markdown",
      "source": [
        "# EDA - Numerical Features"
      ],
      "metadata": {
        "id": "nQE7UxC37Rsp"
      }
    },
    {
      "cell_type": "code",
      "source": [
        "for f in num_features:\n",
        "    sns.boxplot(data=df_train, y=f, x='target')\n",
        "    plt.show()"
      ],
      "metadata": {
        "colab": {
          "base_uri": "https://localhost:8080/",
          "height": 1000
        },
        "id": "RHrTBkM8dz4U",
        "outputId": "fdb84daa-54d0-4f5e-8c12-bf93ebc66ce2"
      },
      "execution_count": 16,
      "outputs": [
        {
          "output_type": "display_data",
          "data": {
            "image/png": "[encoded data removed]",
            "text/plain": [
              "<Figure size 432x288 with 1 Axes>"
            ]
          },
          "metadata": {
            "needs_background": "light"
          }
        },
        {
          "output_type": "display_data",
          "data": {
            "image/png": "[encoded data removed]",
            "text/plain": [
              "<Figure size 432x288 with 1 Axes>"
            ]
          },
          "metadata": {
            "needs_background": "light"
          }
        },
        {
          "output_type": "display_data",
          "data": {
            "image/png": "[encoded data removed]",
            "text/plain": [
              "<Figure size 432x288 with 1 Axes>"
            ]
          },
          "metadata": {
            "needs_background": "light"
          }
        },
        {
          "output_type": "display_data",
          "data": {
            "image/png": "[encoded data removed]",
            "text/plain": [
              "<Figure size 432x288 with 1 Axes>"
            ]
          },
          "metadata": {
            "needs_background": "light"
          }
        }
      ]
    },
    {
      "cell_type": "code",
      "source": [
        "for f in num_features:\n",
        "    sns.displot(data=df_train, x=f, hue='target', kind='kde')\n",
        "    plt.show()"
      ],
      "metadata": {
        "colab": {
          "base_uri": "https://localhost:8080/",
          "height": 1000
        },
        "id": "lfsvQVV-YNGs",
        "outputId": "993d6f19-fd08-4e82-897f-20707a8933f3"
      },
      "execution_count": 15,
      "outputs": [
        {
          "output_type": "display_data",
          "data": {
            "image/png": "[encoded data removed]",
            "text/plain": [
              "<Figure size 402.375x360 with 1 Axes>"
            ]
          },
          "metadata": {
            "needs_background": "light"
          }
        },
        {
          "output_type": "display_data",
          "data": {
            "image/png": "[encoded data removed]",
            "text/plain": [
              "<Figure size 402.375x360 with 1 Axes>"
            ]
          },
          "metadata": {
            "needs_background": "light"
          }
        },
        {
          "output_type": "display_data",
          "data": {
            "image/png": "[encoded data removed]",
            "text/plain": [
              "<Figure size 402.375x360 with 1 Axes>"
            ]
          },
          "metadata": {
            "needs_background": "light"
          }
        },
        {
          "output_type": "display_data",
          "data": {
            "image/png": "[encoded data removed]",
            "text/plain": [
              "<Figure size 402.375x360 with 1 Axes>"
            ]
          },
          "metadata": {
            "needs_background": "light"
          }
        }
      ]
    },
    {
      "cell_type": "markdown",
      "source": [
        "# Delay 관련 feature는 skewness가 심함 -> log 변환"
      ],
      "metadata": {
        "id": "HxczbNpY7gWb"
      }
    },
    {
      "cell_type": "code",
      "source": [
        "delay_features = ['Departure Delay in Minutes', 'Arrival Delay in Minutes']\n",
        "for f in delay_features:\n",
        "    df_train[f'{f}_log'] = np.log1p(df_train[f])\n",
        "\n",
        "for f in delay_features:\n",
        "    sns.displot(data=df_train, col='target', x=f'{f}_log')\n",
        "    plt.show()\n",
        "\n",
        "    sns.displot(data=df_train, x=f'{f}_log', hue='target', kind='kde')\n",
        "    plt.show()"
      ],
      "metadata": {
        "colab": {
          "base_uri": "https://localhost:8080/",
          "height": 1000
        },
        "id": "A4jNGBNOXsp9",
        "outputId": "f49232c2-990c-461b-e7e7-34864f0e75ca"
      },
      "execution_count": 17,
      "outputs": [
        {
          "output_type": "display_data",
          "data": {
            "image/png": "[encoded data removed]",
            "text/plain": [
              "<Figure size 720x360 with 2 Axes>"
            ]
          },
          "metadata": {
            "needs_background": "light"
          }
        },
        {
          "output_type": "display_data",
          "data": {
            "image/png": "[encoded data removed]",
            "text/plain": [
              "<Figure size 402.375x360 with 1 Axes>"
            ]
          },
          "metadata": {
            "needs_background": "light"
          }
        },
        {
          "output_type": "display_data",
          "data": {
            "image/png": "[encoded data removed]",
            "text/plain": [
              "<Figure size 720x360 with 2 Axes>"
            ]
          },
          "metadata": {
            "needs_background": "light"
          }
        },
        {
          "output_type": "display_data",
          "data": {
            "image/png": "[encoded data removed]",
            "text/plain": [
              "<Figure size 402.375x360 with 1 Axes>"
            ]
          },
          "metadata": {
            "needs_background": "light"
          }
        }
      ]
    },
    {
      "cell_type": "code",
      "source": [
        "remove_num_features = ['Departure Delay in Minutes', 'Arrival Delay in Minutes']\n",
        "selected_num_features = []\n",
        "for f in num_features:\n",
        "    if f not in remove_num_features:\n",
        "        selected_num_features.append(f)\n",
        "\n",
        "for f in delay_features:\n",
        "    selected_num_features.append(f'{f}_log')\n",
        "\n",
        "print(len(selected_num_features), selected_num_features)"
      ],
      "metadata": {
        "colab": {
          "base_uri": "https://localhost:8080/"
        },
        "id": "pz-7r0fiOsf9",
        "outputId": "e1da881f-9ede-45af-e571-e60233e2fae7"
      },
      "execution_count": 18,
      "outputs": [
        {
          "output_type": "stream",
          "name": "stdout",
          "text": [
            "4 ['Age', 'Flight Distance', 'Departure Delay in Minutes_log', 'Arrival Delay in Minutes_log']\n"
          ]
        }
      ]
    },
    {
      "cell_type": "code",
      "source": [
        "selected_features = selected_cat_features + selected_num_features\n",
        "print(len(selected_features), selected_features)"
      ],
      "metadata": {
        "colab": {
          "base_uri": "https://localhost:8080/"
        },
        "id": "2WvVHuTiO1Gn",
        "outputId": "a27643b9-fec5-40c7-d105-f074fdcc747f"
      },
      "execution_count": 19,
      "outputs": [
        {
          "output_type": "stream",
          "name": "stdout",
          "text": [
            "21 ['Gender', 'Customer Type', 'Type of Travel', 'Class', 'Seat comfort', 'Food and drink', 'Gate location', 'Inflight wifi service', 'Inflight entertainment', 'Online support', 'Ease of Online booking', 'On-board service', 'Leg room service', 'Baggage handling', 'Checkin service', 'Cleanliness', 'Online boarding', 'Age', 'Flight Distance', 'Departure Delay in Minutes_log', 'Arrival Delay in Minutes_log']\n"
          ]
        }
      ]
    },
    {
      "cell_type": "code",
      "source": [
        "rating_features = []\n",
        "for f in selected_cat_features:\n",
        "    if df_train[f].nunique() >= 5:\n",
        "        rating_features.append(f)\n",
        "\n",
        "print(rating_features)"
      ],
      "metadata": {
        "colab": {
          "base_uri": "https://localhost:8080/"
        },
        "id": "Qyr9KFgw8Xfr",
        "outputId": "3bf7936f-d2e8-4bd2-d44a-f8a40b6be222"
      },
      "execution_count": 20,
      "outputs": [
        {
          "output_type": "stream",
          "name": "stdout",
          "text": [
            "['Seat comfort', 'Food and drink', 'Gate location', 'Inflight wifi service', 'Inflight entertainment', 'Online support', 'Ease of Online booking', 'On-board service', 'Leg room service', 'Baggage handling', 'Checkin service', 'Cleanliness', 'Online boarding']\n"
          ]
        }
      ]
    },
    {
      "cell_type": "code",
      "source": [
        "df_train['rating_mean'] = df_train.loc[:, rating_features].mean(axis=1)\n",
        "df_train['rating_std'] = df_train.loc[:, rating_features].std(axis=1)\n",
        "\n",
        "df_train.head(2)"
      ],
      "metadata": {
        "colab": {
          "base_uri": "https://localhost:8080/",
          "height": 263
        },
        "id": "8T7zmplA8ynd",
        "outputId": "821e91a6-da1f-4457-c4ae-51943ffb0ad5"
      },
      "execution_count": 26,
      "outputs": [
        {
          "output_type": "execute_result",
          "data": {
            "text/html": [
              "\n",
              "  <div id=\"df-788a275e-7b5d-414b-98cb-930f745dd886\">\n",
              "    <div class=\"colab-df-container\">\n",
              "      <div>\n",
              "<style scoped>\n",
              "    .dataframe tbody tr th:only-of-type {\n",
              "        vertical-align: middle;\n",
              "    }\n",
              "\n",
              "    .dataframe tbody tr th {\n",
              "        vertical-align: top;\n",
              "    }\n",
              "\n",
              "    .dataframe thead th {\n",
              "        text-align: right;\n",
              "    }\n",
              "</style>\n",
              "<table border=\"1\" class=\"dataframe\">\n",
              "  <thead>\n",
              "    <tr style=\"text-align: right;\">\n",
              "      <th></th>\n",
              "      <th>Gender</th>\n",
              "      <th>Customer Type</th>\n",
              "      <th>Age</th>\n",
              "      <th>Type of Travel</th>\n",
              "      <th>Class</th>\n",
              "      <th>Flight Distance</th>\n",
              "      <th>Seat comfort</th>\n",
              "      <th>Departure/Arrival time convenient</th>\n",
              "      <th>Food and drink</th>\n",
              "      <th>Gate location</th>\n",
              "      <th>Inflight wifi service</th>\n",
              "      <th>Inflight entertainment</th>\n",
              "      <th>Online support</th>\n",
              "      <th>Ease of Online booking</th>\n",
              "      <th>On-board service</th>\n",
              "      <th>Leg room service</th>\n",
              "      <th>Baggage handling</th>\n",
              "      <th>Checkin service</th>\n",
              "      <th>Cleanliness</th>\n",
              "      <th>Online boarding</th>\n",
              "      <th>Departure Delay in Minutes</th>\n",
              "      <th>Arrival Delay in Minutes</th>\n",
              "      <th>target</th>\n",
              "      <th>Departure Delay in Minutes_log</th>\n",
              "      <th>Arrival Delay in Minutes_log</th>\n",
              "      <th>rating_mean</th>\n",
              "      <th>rating_std</th>\n",
              "    </tr>\n",
              "  </thead>\n",
              "  <tbody>\n",
              "    <tr>\n",
              "      <th>0</th>\n",
              "      <td>Female</td>\n",
              "      <td>disloyal Customer</td>\n",
              "      <td>22</td>\n",
              "      <td>Business travel</td>\n",
              "      <td>Eco</td>\n",
              "      <td>1599</td>\n",
              "      <td>3</td>\n",
              "      <td>0</td>\n",
              "      <td>3</td>\n",
              "      <td>3</td>\n",
              "      <td>4</td>\n",
              "      <td>3</td>\n",
              "      <td>4</td>\n",
              "      <td>4</td>\n",
              "      <td>5</td>\n",
              "      <td>4</td>\n",
              "      <td>4</td>\n",
              "      <td>4</td>\n",
              "      <td>5</td>\n",
              "      <td>4</td>\n",
              "      <td>0</td>\n",
              "      <td>0.0</td>\n",
              "      <td>0</td>\n",
              "      <td>0.000000</td>\n",
              "      <td>0.000000</td>\n",
              "      <td>3.846154</td>\n",
              "      <td>0.688737</td>\n",
              "    </tr>\n",
              "    <tr>\n",
              "      <th>1</th>\n",
              "      <td>Female</td>\n",
              "      <td>Loyal Customer</td>\n",
              "      <td>37</td>\n",
              "      <td>Business travel</td>\n",
              "      <td>Business</td>\n",
              "      <td>2810</td>\n",
              "      <td>2</td>\n",
              "      <td>4</td>\n",
              "      <td>4</td>\n",
              "      <td>4</td>\n",
              "      <td>1</td>\n",
              "      <td>4</td>\n",
              "      <td>3</td>\n",
              "      <td>5</td>\n",
              "      <td>5</td>\n",
              "      <td>4</td>\n",
              "      <td>2</td>\n",
              "      <td>1</td>\n",
              "      <td>5</td>\n",
              "      <td>2</td>\n",
              "      <td>18</td>\n",
              "      <td>18.0</td>\n",
              "      <td>0</td>\n",
              "      <td>2.944439</td>\n",
              "      <td>2.944439</td>\n",
              "      <td>3.230769</td>\n",
              "      <td>1.480644</td>\n",
              "    </tr>\n",
              "  </tbody>\n",
              "</table>\n",
              "</div>\n",
              "      <button class=\"colab-df-convert\" onclick=\"convertToInteractive('df-788a275e-7b5d-414b-98cb-930f745dd886')\"\n",
              "              title=\"Convert this dataframe to an interactive table.\"\n",
              "              style=\"display:none;\">\n",
              "        \n",
              "  <svg xmlns=\"http://www.w3.org/2000/svg\" height=\"24px\"viewBox=\"0 0 24 24\"\n",
              "       width=\"24px\">\n",
              "    <path d=\"M0 0h24v24H0V0z\" fill=\"none\"/>\n",
              "    <path d=\"M18.56 5.44l.94 2.06.94-2.06 2.06-.94-2.06-.94-.94-2.06-.94 2.06-2.06.94zm-11 1L8.5 8.5l.94-2.06 2.06-.94-2.06-.94L8.5 2.5l-.94 2.06-2.06.94zm10 10l.94 2.06.94-2.06 2.06-.94-2.06-.94-.94-2.06-.94 2.06-2.06.94z\"/><path d=\"M17.41 7.96l-1.37-1.37c-.4-.4-.92-.59-1.43-.59-.52 0-1.04.2-1.43.59L10.3 9.45l-7.72 7.72c-.78.78-.78 2.05 0 2.83L4 21.41c.39.39.9.59 1.41.59.51 0 1.02-.2 1.41-.59l7.78-7.78 2.81-2.81c.8-.78.8-2.07 0-2.86zM5.41 20L4 18.59l7.72-7.72 1.47 1.35L5.41 20z\"/>\n",
              "  </svg>\n",
              "      </button>\n",
              "      \n",
              "  <style>\n",
              "    .colab-df-container {\n",
              "      display:flex;\n",
              "      flex-wrap:wrap;\n",
              "      gap: 12px;\n",
              "    }\n",
              "\n",
              "    .colab-df-convert {\n",
              "      background-color: #E8F0FE;\n",
              "      border: none;\n",
              "      border-radius: 50%;\n",
              "      cursor: pointer;\n",
              "      display: none;\n",
              "      fill: #1967D2;\n",
              "      height: 32px;\n",
              "      padding: 0 0 0 0;\n",
              "      width: 32px;\n",
              "    }\n",
              "\n",
              "    .colab-df-convert:hover {\n",
              "      background-color: #E2EBFA;\n",
              "      box-shadow: 0px 1px 2px rgba(60, 64, 67, 0.3), 0px 1px 3px 1px rgba(60, 64, 67, 0.15);\n",
              "      fill: #174EA6;\n",
              "    }\n",
              "\n",
              "    [theme=dark] .colab-df-convert {\n",
              "      background-color: #3B4455;\n",
              "      fill: #D2E3FC;\n",
              "    }\n",
              "\n",
              "    [theme=dark] .colab-df-convert:hover {\n",
              "      background-color: #434B5C;\n",
              "      box-shadow: 0px 1px 3px 1px rgba(0, 0, 0, 0.15);\n",
              "      filter: drop-shadow(0px 1px 2px rgba(0, 0, 0, 0.3));\n",
              "      fill: #FFFFFF;\n",
              "    }\n",
              "  </style>\n",
              "\n",
              "      <script>\n",
              "        const buttonEl =\n",
              "          document.querySelector('#df-788a275e-7b5d-414b-98cb-930f745dd886 button.colab-df-convert');\n",
              "        buttonEl.style.display =\n",
              "          google.colab.kernel.accessAllowed ? 'block' : 'none';\n",
              "\n",
              "        async function convertToInteractive(key) {\n",
              "          const element = document.querySelector('#df-788a275e-7b5d-414b-98cb-930f745dd886');\n",
              "          const dataTable =\n",
              "            await google.colab.kernel.invokeFunction('convertToInteractive',\n",
              "                                                     [key], {});\n",
              "          if (!dataTable) return;\n",
              "\n",
              "          const docLinkHtml = 'Like what you see? Visit the ' +\n",
              "            '<a target=\"_blank\" href=https://colab.research.google.com/notebooks/data_table.ipynb>data table notebook</a>'\n",
              "            + ' to learn more about interactive tables.';\n",
              "          element.innerHTML = '';\n",
              "          dataTable['output_type'] = 'display_data';\n",
              "          await google.colab.output.renderOutput(dataTable, element);\n",
              "          const docLink = document.createElement('div');\n",
              "          docLink.innerHTML = docLinkHtml;\n",
              "          element.appendChild(docLink);\n",
              "        }\n",
              "      </script>\n",
              "    </div>\n",
              "  </div>\n",
              "  "
            ],
            "text/plain": [
              "   Gender      Customer Type  Age   Type of Travel     Class  Flight Distance  \\\n",
              "0  Female  disloyal Customer   22  Business travel       Eco             1599   \n",
              "1  Female     Loyal Customer   37  Business travel  Business             2810   \n",
              "\n",
              "   Seat comfort  Departure/Arrival time convenient  Food and drink  \\\n",
              "0             3                                  0               3   \n",
              "1             2                                  4               4   \n",
              "\n",
              "   Gate location  Inflight wifi service  Inflight entertainment  \\\n",
              "0              3                      4                       3   \n",
              "1              4                      1                       4   \n",
              "\n",
              "   Online support  Ease of Online booking  On-board service  Leg room service  \\\n",
              "0               4                       4                 5                 4   \n",
              "1               3                       5                 5                 4   \n",
              "\n",
              "   Baggage handling  Checkin service  Cleanliness  Online boarding  \\\n",
              "0                 4                4            5                4   \n",
              "1                 2                1            5                2   \n",
              "\n",
              "   Departure Delay in Minutes  Arrival Delay in Minutes  target  \\\n",
              "0                           0                       0.0       0   \n",
              "1                          18                      18.0       0   \n",
              "\n",
              "   Departure Delay in Minutes_log  Arrival Delay in Minutes_log  rating_mean  \\\n",
              "0                        0.000000                      0.000000     3.846154   \n",
              "1                        2.944439                      2.944439     3.230769   \n",
              "\n",
              "   rating_std  \n",
              "0    0.688737  \n",
              "1    1.480644  "
            ]
          },
          "metadata": {},
          "execution_count": 26
        }
      ]
    },
    {
      "cell_type": "code",
      "source": [
        "selected_num_features += ['rating_mean', 'rating_std']\n",
        "selected_features += ['rating_mean', 'rating_std']\n",
        "\n",
        "print(len(selected_cat_features))\n",
        "print(len(selected_num_features))\n",
        "print(len(selected_features))"
      ],
      "metadata": {
        "colab": {
          "base_uri": "https://localhost:8080/"
        },
        "id": "anZD1E5f-XUA",
        "outputId": "6a48a426-411a-49f9-be6d-4418b12dd2f7"
      },
      "execution_count": 27,
      "outputs": [
        {
          "output_type": "stream",
          "name": "stdout",
          "text": [
            "17\n",
            "6\n",
            "23\n"
          ]
        }
      ]
    },
    {
      "cell_type": "code",
      "source": [
        ""
      ],
      "metadata": {
        "id": "NKbsSNEW_Z-q"
      },
      "execution_count": null,
      "outputs": []
    },
    {
      "cell_type": "markdown",
      "source": [
        "# Label Encoding\n",
        "- missing value 0이 있으므로 Ordinal Encoding은 할 수 없음\n",
        "- 결측치 처리 대신 NaN으로 처리되기를 기대할 수 있음"
      ],
      "metadata": {
        "id": "gqszdHLy_bEM"
      }
    },
    {
      "cell_type": "code",
      "source": [
        "le = preprocessing.LabelEncoder()\n",
        "for f in selected_cat_features:\n",
        "    df_train[f] = le.fit_transform(df_train[f].astype(str)) \n",
        "\n",
        "df_train.head(2)"
      ],
      "metadata": {
        "colab": {
          "base_uri": "https://localhost:8080/",
          "height": 228
        },
        "id": "eBbKZD3lQEHR",
        "outputId": "fc0f671c-41c8-4b61-d22c-012b54cecb0b"
      },
      "execution_count": 28,
      "outputs": [
        {
          "output_type": "execute_result",
          "data": {
            "text/html": [
              "\n",
              "  <div id=\"df-5feba0ce-65b1-4758-a131-eef376e29180\">\n",
              "    <div class=\"colab-df-container\">\n",
              "      <div>\n",
              "<style scoped>\n",
              "    .dataframe tbody tr th:only-of-type {\n",
              "        vertical-align: middle;\n",
              "    }\n",
              "\n",
              "    .dataframe tbody tr th {\n",
              "        vertical-align: top;\n",
              "    }\n",
              "\n",
              "    .dataframe thead th {\n",
              "        text-align: right;\n",
              "    }\n",
              "</style>\n",
              "<table border=\"1\" class=\"dataframe\">\n",
              "  <thead>\n",
              "    <tr style=\"text-align: right;\">\n",
              "      <th></th>\n",
              "      <th>Gender</th>\n",
              "      <th>Customer Type</th>\n",
              "      <th>Age</th>\n",
              "      <th>Type of Travel</th>\n",
              "      <th>Class</th>\n",
              "      <th>Flight Distance</th>\n",
              "      <th>Seat comfort</th>\n",
              "      <th>Departure/Arrival time convenient</th>\n",
              "      <th>Food and drink</th>\n",
              "      <th>Gate location</th>\n",
              "      <th>Inflight wifi service</th>\n",
              "      <th>Inflight entertainment</th>\n",
              "      <th>Online support</th>\n",
              "      <th>Ease of Online booking</th>\n",
              "      <th>On-board service</th>\n",
              "      <th>Leg room service</th>\n",
              "      <th>Baggage handling</th>\n",
              "      <th>Checkin service</th>\n",
              "      <th>Cleanliness</th>\n",
              "      <th>Online boarding</th>\n",
              "      <th>Departure Delay in Minutes</th>\n",
              "      <th>Arrival Delay in Minutes</th>\n",
              "      <th>target</th>\n",
              "      <th>Departure Delay in Minutes_log</th>\n",
              "      <th>Arrival Delay in Minutes_log</th>\n",
              "      <th>rating_mean</th>\n",
              "      <th>rating_std</th>\n",
              "    </tr>\n",
              "  </thead>\n",
              "  <tbody>\n",
              "    <tr>\n",
              "      <th>0</th>\n",
              "      <td>0</td>\n",
              "      <td>1</td>\n",
              "      <td>22</td>\n",
              "      <td>0</td>\n",
              "      <td>1</td>\n",
              "      <td>1599</td>\n",
              "      <td>3</td>\n",
              "      <td>0</td>\n",
              "      <td>3</td>\n",
              "      <td>2</td>\n",
              "      <td>4</td>\n",
              "      <td>3</td>\n",
              "      <td>3</td>\n",
              "      <td>4</td>\n",
              "      <td>4</td>\n",
              "      <td>4</td>\n",
              "      <td>3</td>\n",
              "      <td>3</td>\n",
              "      <td>4</td>\n",
              "      <td>4</td>\n",
              "      <td>0</td>\n",
              "      <td>0.0</td>\n",
              "      <td>0</td>\n",
              "      <td>0.000000</td>\n",
              "      <td>0.000000</td>\n",
              "      <td>3.846154</td>\n",
              "      <td>0.688737</td>\n",
              "    </tr>\n",
              "    <tr>\n",
              "      <th>1</th>\n",
              "      <td>0</td>\n",
              "      <td>0</td>\n",
              "      <td>37</td>\n",
              "      <td>0</td>\n",
              "      <td>0</td>\n",
              "      <td>2810</td>\n",
              "      <td>2</td>\n",
              "      <td>4</td>\n",
              "      <td>4</td>\n",
              "      <td>3</td>\n",
              "      <td>1</td>\n",
              "      <td>4</td>\n",
              "      <td>2</td>\n",
              "      <td>5</td>\n",
              "      <td>4</td>\n",
              "      <td>4</td>\n",
              "      <td>1</td>\n",
              "      <td>0</td>\n",
              "      <td>4</td>\n",
              "      <td>2</td>\n",
              "      <td>18</td>\n",
              "      <td>18.0</td>\n",
              "      <td>0</td>\n",
              "      <td>2.944439</td>\n",
              "      <td>2.944439</td>\n",
              "      <td>3.230769</td>\n",
              "      <td>1.480644</td>\n",
              "    </tr>\n",
              "  </tbody>\n",
              "</table>\n",
              "</div>\n",
              "      <button class=\"colab-df-convert\" onclick=\"convertToInteractive('df-5feba0ce-65b1-4758-a131-eef376e29180')\"\n",
              "              title=\"Convert this dataframe to an interactive table.\"\n",
              "              style=\"display:none;\">\n",
              "        \n",
              "  <svg xmlns=\"http://www.w3.org/2000/svg\" height=\"24px\"viewBox=\"0 0 24 24\"\n",
              "       width=\"24px\">\n",
              "    <path d=\"M0 0h24v24H0V0z\" fill=\"none\"/>\n",
              "    <path d=\"M18.56 5.44l.94 2.06.94-2.06 2.06-.94-2.06-.94-.94-2.06-.94 2.06-2.06.94zm-11 1L8.5 8.5l.94-2.06 2.06-.94-2.06-.94L8.5 2.5l-.94 2.06-2.06.94zm10 10l.94 2.06.94-2.06 2.06-.94-2.06-.94-.94-2.06-.94 2.06-2.06.94z\"/><path d=\"M17.41 7.96l-1.37-1.37c-.4-.4-.92-.59-1.43-.59-.52 0-1.04.2-1.43.59L10.3 9.45l-7.72 7.72c-.78.78-.78 2.05 0 2.83L4 21.41c.39.39.9.59 1.41.59.51 0 1.02-.2 1.41-.59l7.78-7.78 2.81-2.81c.8-.78.8-2.07 0-2.86zM5.41 20L4 18.59l7.72-7.72 1.47 1.35L5.41 20z\"/>\n",
              "  </svg>\n",
              "      </button>\n",
              "      \n",
              "  <style>\n",
              "    .colab-df-container {\n",
              "      display:flex;\n",
              "      flex-wrap:wrap;\n",
              "      gap: 12px;\n",
              "    }\n",
              "\n",
              "    .colab-df-convert {\n",
              "      background-color: #E8F0FE;\n",
              "      border: none;\n",
              "      border-radius: 50%;\n",
              "      cursor: pointer;\n",
              "      display: none;\n",
              "      fill: #1967D2;\n",
              "      height: 32px;\n",
              "      padding: 0 0 0 0;\n",
              "      width: 32px;\n",
              "    }\n",
              "\n",
              "    .colab-df-convert:hover {\n",
              "      background-color: #E2EBFA;\n",
              "      box-shadow: 0px 1px 2px rgba(60, 64, 67, 0.3), 0px 1px 3px 1px rgba(60, 64, 67, 0.15);\n",
              "      fill: #174EA6;\n",
              "    }\n",
              "\n",
              "    [theme=dark] .colab-df-convert {\n",
              "      background-color: #3B4455;\n",
              "      fill: #D2E3FC;\n",
              "    }\n",
              "\n",
              "    [theme=dark] .colab-df-convert:hover {\n",
              "      background-color: #434B5C;\n",
              "      box-shadow: 0px 1px 3px 1px rgba(0, 0, 0, 0.15);\n",
              "      filter: drop-shadow(0px 1px 2px rgba(0, 0, 0, 0.3));\n",
              "      fill: #FFFFFF;\n",
              "    }\n",
              "  </style>\n",
              "\n",
              "      <script>\n",
              "        const buttonEl =\n",
              "          document.querySelector('#df-5feba0ce-65b1-4758-a131-eef376e29180 button.colab-df-convert');\n",
              "        buttonEl.style.display =\n",
              "          google.colab.kernel.accessAllowed ? 'block' : 'none';\n",
              "\n",
              "        async function convertToInteractive(key) {\n",
              "          const element = document.querySelector('#df-5feba0ce-65b1-4758-a131-eef376e29180');\n",
              "          const dataTable =\n",
              "            await google.colab.kernel.invokeFunction('convertToInteractive',\n",
              "                                                     [key], {});\n",
              "          if (!dataTable) return;\n",
              "\n",
              "          const docLinkHtml = 'Like what you see? Visit the ' +\n",
              "            '<a target=\"_blank\" href=https://colab.research.google.com/notebooks/data_table.ipynb>data table notebook</a>'\n",
              "            + ' to learn more about interactive tables.';\n",
              "          element.innerHTML = '';\n",
              "          dataTable['output_type'] = 'display_data';\n",
              "          await google.colab.output.renderOutput(dataTable, element);\n",
              "          const docLink = document.createElement('div');\n",
              "          docLink.innerHTML = docLinkHtml;\n",
              "          element.appendChild(docLink);\n",
              "        }\n",
              "      </script>\n",
              "    </div>\n",
              "  </div>\n",
              "  "
            ],
            "text/plain": [
              "   Gender  Customer Type  Age  Type of Travel  Class  Flight Distance  \\\n",
              "0       0              1   22               0      1             1599   \n",
              "1       0              0   37               0      0             2810   \n",
              "\n",
              "   Seat comfort  Departure/Arrival time convenient  Food and drink  \\\n",
              "0             3                                  0               3   \n",
              "1             2                                  4               4   \n",
              "\n",
              "   Gate location  Inflight wifi service  Inflight entertainment  \\\n",
              "0              2                      4                       3   \n",
              "1              3                      1                       4   \n",
              "\n",
              "   Online support  Ease of Online booking  On-board service  Leg room service  \\\n",
              "0               3                       4                 4                 4   \n",
              "1               2                       5                 4                 4   \n",
              "\n",
              "   Baggage handling  Checkin service  Cleanliness  Online boarding  \\\n",
              "0                 3                3            4                4   \n",
              "1                 1                0            4                2   \n",
              "\n",
              "   Departure Delay in Minutes  Arrival Delay in Minutes  target  \\\n",
              "0                           0                       0.0       0   \n",
              "1                          18                      18.0       0   \n",
              "\n",
              "   Departure Delay in Minutes_log  Arrival Delay in Minutes_log  rating_mean  \\\n",
              "0                        0.000000                      0.000000     3.846154   \n",
              "1                        2.944439                      2.944439     3.230769   \n",
              "\n",
              "   rating_std  \n",
              "0    0.688737  \n",
              "1    1.480644  "
            ]
          },
          "metadata": {},
          "execution_count": 28
        }
      ]
    },
    {
      "cell_type": "markdown",
      "source": [
        "# 상관계수 파악\n",
        "- target이 있는 마지막 줄에 주목\n",
        "- Gate location, Flight Distance는 상관계수가 0에 가까움 -> feature 제거 고려?"
      ],
      "metadata": {
        "id": "YRUpuQcl_pdg"
      }
    },
    {
      "cell_type": "code",
      "source": [
        "train_set = df_train[selected_features + ['target']].copy()\n",
        "corr = train_set.corr() # Compute the correlation matrix\n",
        "mask = np.triu(np.ones_like(corr, dtype=bool))  # Generate a mask for the upper triangle\n",
        "cmap = sns.diverging_palette(230, 20, as_cmap=True)\n",
        "sns.heatmap(corr, mask=mask, cmap=cmap, vmin=-1., vmax=1., center=0,\n",
        "                square=True, linewidths=.5, cbar_kws={\"shrink\": .5})\n",
        "plt.show()"
      ],
      "metadata": {
        "colab": {
          "base_uri": "https://localhost:8080/",
          "height": 414
        },
        "id": "eYDbg7iVOCLB",
        "outputId": "20dbd31a-2186-4286-9e19-4168f3c9886c"
      },
      "execution_count": 32,
      "outputs": [
        {
          "output_type": "display_data",
          "data": {
            "image/png": "[encoded data removed]",
            "text/plain": [
              "<Figure size 432x288 with 2 Axes>"
            ]
          },
          "metadata": {
            "needs_background": "light"
          }
        }
      ]
    },
    {
      "cell_type": "code",
      "source": [
        "remove_features = ['Gate location', 'Flight Distance']\n",
        "# remove_features = ['Gate location']\n",
        "tmp_features = {k: 0 for k in selected_features}\n",
        "for f in remove_features:\n",
        "    if f in selected_features:\n",
        "        del tmp_features[f]\n",
        "selected_features = [f for f in tmp_features.keys()]\n",
        "del tmp_features\n",
        "\n",
        "print(len(selected_features), selected_features)"
      ],
      "metadata": {
        "colab": {
          "base_uri": "https://localhost:8080/"
        },
        "id": "-m7qsxZcYxqY",
        "outputId": "68d3b8f7-960a-4715-f31b-284dd6f7c3e8"
      },
      "execution_count": 33,
      "outputs": [
        {
          "output_type": "stream",
          "name": "stdout",
          "text": [
            "21 ['Gender', 'Customer Type', 'Type of Travel', 'Class', 'Seat comfort', 'Food and drink', 'Inflight wifi service', 'Inflight entertainment', 'Online support', 'Ease of Online booking', 'On-board service', 'Leg room service', 'Baggage handling', 'Checkin service', 'Cleanliness', 'Online boarding', 'Age', 'Departure Delay in Minutes_log', 'Arrival Delay in Minutes_log', 'rating_mean', 'rating_std']\n"
          ]
        }
      ]
    },
    {
      "cell_type": "code",
      "source": [
        "df_train = df_train[selected_features + ['target']]\n",
        "print(df_train.shape)\n",
        "df_train.head(2)"
      ],
      "metadata": {
        "colab": {
          "base_uri": "https://localhost:8080/",
          "height": 228
        },
        "id": "vHfQilAEoxZH",
        "outputId": "ce839ea2-9ea7-46ad-a3bc-df2961b0a2a8"
      },
      "execution_count": 34,
      "outputs": [
        {
          "output_type": "stream",
          "name": "stdout",
          "text": [
            "(3000, 22)\n"
          ]
        },
        {
          "output_type": "execute_result",
          "data": {
            "text/html": [
              "\n",
              "  <div id=\"df-9e56f685-4413-4f34-8539-17c2d96097e1\">\n",
              "    <div class=\"colab-df-container\">\n",
              "      <div>\n",
              "<style scoped>\n",
              "    .dataframe tbody tr th:only-of-type {\n",
              "        vertical-align: middle;\n",
              "    }\n",
              "\n",
              "    .dataframe tbody tr th {\n",
              "        vertical-align: top;\n",
              "    }\n",
              "\n",
              "    .dataframe thead th {\n",
              "        text-align: right;\n",
              "    }\n",
              "</style>\n",
              "<table border=\"1\" class=\"dataframe\">\n",
              "  <thead>\n",
              "    <tr style=\"text-align: right;\">\n",
              "      <th></th>\n",
              "      <th>Gender</th>\n",
              "      <th>Customer Type</th>\n",
              "      <th>Type of Travel</th>\n",
              "      <th>Class</th>\n",
              "      <th>Seat comfort</th>\n",
              "      <th>Food and drink</th>\n",
              "      <th>Inflight wifi service</th>\n",
              "      <th>Inflight entertainment</th>\n",
              "      <th>Online support</th>\n",
              "      <th>Ease of Online booking</th>\n",
              "      <th>On-board service</th>\n",
              "      <th>Leg room service</th>\n",
              "      <th>Baggage handling</th>\n",
              "      <th>Checkin service</th>\n",
              "      <th>Cleanliness</th>\n",
              "      <th>Online boarding</th>\n",
              "      <th>Age</th>\n",
              "      <th>Departure Delay in Minutes_log</th>\n",
              "      <th>Arrival Delay in Minutes_log</th>\n",
              "      <th>rating_mean</th>\n",
              "      <th>rating_std</th>\n",
              "      <th>target</th>\n",
              "    </tr>\n",
              "  </thead>\n",
              "  <tbody>\n",
              "    <tr>\n",
              "      <th>0</th>\n",
              "      <td>0</td>\n",
              "      <td>1</td>\n",
              "      <td>0</td>\n",
              "      <td>1</td>\n",
              "      <td>3</td>\n",
              "      <td>3</td>\n",
              "      <td>4</td>\n",
              "      <td>3</td>\n",
              "      <td>3</td>\n",
              "      <td>4</td>\n",
              "      <td>4</td>\n",
              "      <td>4</td>\n",
              "      <td>3</td>\n",
              "      <td>3</td>\n",
              "      <td>4</td>\n",
              "      <td>4</td>\n",
              "      <td>22</td>\n",
              "      <td>0.000000</td>\n",
              "      <td>0.000000</td>\n",
              "      <td>3.846154</td>\n",
              "      <td>0.688737</td>\n",
              "      <td>0</td>\n",
              "    </tr>\n",
              "    <tr>\n",
              "      <th>1</th>\n",
              "      <td>0</td>\n",
              "      <td>0</td>\n",
              "      <td>0</td>\n",
              "      <td>0</td>\n",
              "      <td>2</td>\n",
              "      <td>4</td>\n",
              "      <td>1</td>\n",
              "      <td>4</td>\n",
              "      <td>2</td>\n",
              "      <td>5</td>\n",
              "      <td>4</td>\n",
              "      <td>4</td>\n",
              "      <td>1</td>\n",
              "      <td>0</td>\n",
              "      <td>4</td>\n",
              "      <td>2</td>\n",
              "      <td>37</td>\n",
              "      <td>2.944439</td>\n",
              "      <td>2.944439</td>\n",
              "      <td>3.230769</td>\n",
              "      <td>1.480644</td>\n",
              "      <td>0</td>\n",
              "    </tr>\n",
              "  </tbody>\n",
              "</table>\n",
              "</div>\n",
              "      <button class=\"colab-df-convert\" onclick=\"convertToInteractive('df-9e56f685-4413-4f34-8539-17c2d96097e1')\"\n",
              "              title=\"Convert this dataframe to an interactive table.\"\n",
              "              style=\"display:none;\">\n",
              "        \n",
              "  <svg xmlns=\"http://www.w3.org/2000/svg\" height=\"24px\"viewBox=\"0 0 24 24\"\n",
              "       width=\"24px\">\n",
              "    <path d=\"M0 0h24v24H0V0z\" fill=\"none\"/>\n",
              "    <path d=\"M18.56 5.44l.94 2.06.94-2.06 2.06-.94-2.06-.94-.94-2.06-.94 2.06-2.06.94zm-11 1L8.5 8.5l.94-2.06 2.06-.94-2.06-.94L8.5 2.5l-.94 2.06-2.06.94zm10 10l.94 2.06.94-2.06 2.06-.94-2.06-.94-.94-2.06-.94 2.06-2.06.94z\"/><path d=\"M17.41 7.96l-1.37-1.37c-.4-.4-.92-.59-1.43-.59-.52 0-1.04.2-1.43.59L10.3 9.45l-7.72 7.72c-.78.78-.78 2.05 0 2.83L4 21.41c.39.39.9.59 1.41.59.51 0 1.02-.2 1.41-.59l7.78-7.78 2.81-2.81c.8-.78.8-2.07 0-2.86zM5.41 20L4 18.59l7.72-7.72 1.47 1.35L5.41 20z\"/>\n",
              "  </svg>\n",
              "      </button>\n",
              "      \n",
              "  <style>\n",
              "    .colab-df-container {\n",
              "      display:flex;\n",
              "      flex-wrap:wrap;\n",
              "      gap: 12px;\n",
              "    }\n",
              "\n",
              "    .colab-df-convert {\n",
              "      background-color: #E8F0FE;\n",
              "      border: none;\n",
              "      border-radius: 50%;\n",
              "      cursor: pointer;\n",
              "      display: none;\n",
              "      fill: #1967D2;\n",
              "      height: 32px;\n",
              "      padding: 0 0 0 0;\n",
              "      width: 32px;\n",
              "    }\n",
              "\n",
              "    .colab-df-convert:hover {\n",
              "      background-color: #E2EBFA;\n",
              "      box-shadow: 0px 1px 2px rgba(60, 64, 67, 0.3), 0px 1px 3px 1px rgba(60, 64, 67, 0.15);\n",
              "      fill: #174EA6;\n",
              "    }\n",
              "\n",
              "    [theme=dark] .colab-df-convert {\n",
              "      background-color: #3B4455;\n",
              "      fill: #D2E3FC;\n",
              "    }\n",
              "\n",
              "    [theme=dark] .colab-df-convert:hover {\n",
              "      background-color: #434B5C;\n",
              "      box-shadow: 0px 1px 3px 1px rgba(0, 0, 0, 0.15);\n",
              "      filter: drop-shadow(0px 1px 2px rgba(0, 0, 0, 0.3));\n",
              "      fill: #FFFFFF;\n",
              "    }\n",
              "  </style>\n",
              "\n",
              "      <script>\n",
              "        const buttonEl =\n",
              "          document.querySelector('#df-9e56f685-4413-4f34-8539-17c2d96097e1 button.colab-df-convert');\n",
              "        buttonEl.style.display =\n",
              "          google.colab.kernel.accessAllowed ? 'block' : 'none';\n",
              "\n",
              "        async function convertToInteractive(key) {\n",
              "          const element = document.querySelector('#df-9e56f685-4413-4f34-8539-17c2d96097e1');\n",
              "          const dataTable =\n",
              "            await google.colab.kernel.invokeFunction('convertToInteractive',\n",
              "                                                     [key], {});\n",
              "          if (!dataTable) return;\n",
              "\n",
              "          const docLinkHtml = 'Like what you see? Visit the ' +\n",
              "            '<a target=\"_blank\" href=https://colab.research.google.com/notebooks/data_table.ipynb>data table notebook</a>'\n",
              "            + ' to learn more about interactive tables.';\n",
              "          element.innerHTML = '';\n",
              "          dataTable['output_type'] = 'display_data';\n",
              "          await google.colab.output.renderOutput(dataTable, element);\n",
              "          const docLink = document.createElement('div');\n",
              "          docLink.innerHTML = docLinkHtml;\n",
              "          element.appendChild(docLink);\n",
              "        }\n",
              "      </script>\n",
              "    </div>\n",
              "  </div>\n",
              "  "
            ],
            "text/plain": [
              "   Gender  Customer Type  Type of Travel  Class  Seat comfort  Food and drink  \\\n",
              "0       0              1               0      1             3               3   \n",
              "1       0              0               0      0             2               4   \n",
              "\n",
              "   Inflight wifi service  Inflight entertainment  Online support  \\\n",
              "0                      4                       3               3   \n",
              "1                      1                       4               2   \n",
              "\n",
              "   Ease of Online booking  On-board service  Leg room service  \\\n",
              "0                       4                 4                 4   \n",
              "1                       5                 4                 4   \n",
              "\n",
              "   Baggage handling  Checkin service  Cleanliness  Online boarding  Age  \\\n",
              "0                 3                3            4                4   22   \n",
              "1                 1                0            4                2   37   \n",
              "\n",
              "   Departure Delay in Minutes_log  Arrival Delay in Minutes_log  rating_mean  \\\n",
              "0                        0.000000                      0.000000     3.846154   \n",
              "1                        2.944439                      2.944439     3.230769   \n",
              "\n",
              "   rating_std  target  \n",
              "0    0.688737       0  \n",
              "1    1.480644       0  "
            ]
          },
          "metadata": {},
          "execution_count": 34
        }
      ]
    },
    {
      "cell_type": "code",
      "source": [
        "def set_seed(seed=42):\n",
        "    random.seed(seed)\n",
        "    os.environ['PYTHONHASHSEED'] = str(seed)\n",
        "    np.random.seed(seed)"
      ],
      "metadata": {
        "id": "I0HJG7kv3f5Z"
      },
      "execution_count": 35,
      "outputs": []
    },
    {
      "cell_type": "code",
      "source": [
        "cat_dict = {f: 0 for f in selected_cat_features}\n",
        "for f in selected_cat_features:\n",
        "    if f not in selected_features:\n",
        "        del cat_dict[f]\n",
        "\n",
        "selected_cat_features = [f for f in cat_dict.keys()]\n",
        "print(selected_cat_features)\n",
        "print(len(selected_cat_features))"
      ],
      "metadata": {
        "colab": {
          "base_uri": "https://localhost:8080/"
        },
        "id": "njRls9CBCKCZ",
        "outputId": "736c1089-357a-4f70-fd6d-f0a579ab49bb"
      },
      "execution_count": 36,
      "outputs": [
        {
          "output_type": "stream",
          "name": "stdout",
          "text": [
            "['Gender', 'Customer Type', 'Type of Travel', 'Class', 'Seat comfort', 'Food and drink', 'Inflight wifi service', 'Inflight entertainment', 'Online support', 'Ease of Online booking', 'On-board service', 'Leg room service', 'Baggage handling', 'Checkin service', 'Cleanliness', 'Online boarding']\n",
            "16\n"
          ]
        }
      ]
    },
    {
      "cell_type": "code",
      "source": [
        "print(selected_num_features)\n",
        "print(len(selected_num_features))"
      ],
      "metadata": {
        "colab": {
          "base_uri": "https://localhost:8080/"
        },
        "id": "V5K89Tg9CodA",
        "outputId": "e90fbe14-df9d-4ea7-91f1-cdefd6aa7803"
      },
      "execution_count": 37,
      "outputs": [
        {
          "output_type": "stream",
          "name": "stdout",
          "text": [
            "['Age', 'Flight Distance', 'Departure Delay in Minutes_log', 'Arrival Delay in Minutes_log', 'rating_mean', 'rating_std']\n",
            "6\n"
          ]
        }
      ]
    },
    {
      "cell_type": "code",
      "source": [
        "print(len(selected_features))"
      ],
      "metadata": {
        "colab": {
          "base_uri": "https://localhost:8080/"
        },
        "id": "B3hdg41WBITw",
        "outputId": "45606a5d-2555-430d-ab4c-1cfb87535752"
      },
      "execution_count": 41,
      "outputs": [
        {
          "output_type": "stream",
          "name": "stdout",
          "text": [
            "21\n"
          ]
        }
      ]
    },
    {
      "cell_type": "code",
      "source": [
        "SEED = 7777\n",
        "N_SPLITS = 5\n",
        "N_ESTIMATORS = 5000\n",
        "\n",
        "params = {\n",
        "    'n_estimators': N_ESTIMATORS, \n",
        "    'n_jobs': -1, \n",
        "    'random_state': SEED,\n",
        "}\n",
        "\n",
        "cbt_params = {\n",
        "    'silent': True,\n",
        "    'n_estimators': N_ESTIMATORS, \n",
        "    'learning_rate': 0.025,\n",
        "    #'n_jobs': -1, \n",
        "    'random_state': SEED,\n",
        "    #'cat_features': selected_cat_features\n",
        "}\n",
        "\n",
        "models = []\n",
        "set_seed(SEED)\n",
        "\n",
        "folds = StratifiedKFold(n_splits=N_SPLITS, shuffle=True)\n",
        "for fold, (train_idx, valid_idx) in enumerate(folds.split(df_train[selected_features], df_train['target'])):\n",
        "    X_train = df_train.loc[train_idx][selected_features]\n",
        "    y_train = df_train.loc[train_idx]['target']\n",
        "    X_valid = df_train.loc[valid_idx][selected_features]\n",
        "    y_valid = df_train.loc[valid_idx]['target']\n",
        "   \n",
        "    #model = RandomForestClassifier(**params)\n",
        "    model = CatBoostClassifier(**cbt_params)\n",
        "    model.fit(X_train, y_train)\n",
        "    models.append(model)\n",
        "    p_valid = model.predict(X_valid)\n",
        "    acc = accuracy_score(y_valid, p_valid)\n",
        "    print(f'#{fold} Accuracy: {acc}')"
      ],
      "metadata": {
        "colab": {
          "base_uri": "https://localhost:8080/"
        },
        "id": "scziiBoSbkc2",
        "outputId": "f438065b-05c0-4bab-8144-43a6e53c88a0"
      },
      "execution_count": 38,
      "outputs": [
        {
          "output_type": "stream",
          "name": "stdout",
          "text": [
            "#0 Accuracy: 0.9383333333333334\n",
            "#1 Accuracy: 0.9216666666666666\n",
            "#2 Accuracy: 0.9266666666666666\n",
            "#3 Accuracy: 0.9166666666666666\n",
            "#4 Accuracy: 0.9283333333333333\n"
          ]
        }
      ]
    },
    {
      "cell_type": "code",
      "source": [
        "# grid_param = {\n",
        "#     'n_estimators': [1000, 2500, 5000],\n",
        "#     'learning_rate': [0.01, 0.015, 0.02, 0.05],\n",
        "#     'depth': [8, 12, 16],\n",
        "#     'min_data_in_leaf': [4, 8, 12, 16],\n",
        "#     'num_leaves': [4, 8, 12, 16],\n",
        "#     'l2_leaf_reg': [1, 3, 5, 7]\n",
        "# }\n",
        "\n",
        "# cbt_clf = CatBoostClassifier(silent = True)\n",
        "\n",
        "# grid_search = GridSearchCV(\n",
        "#     estimator = cbt_clf, \n",
        "#     param_grid = grid_param, \n",
        "#     cv = 4, \n",
        "#     n_jobs = 1, \n",
        "#     verbose = 1,\n",
        "# )\n",
        "\n",
        "# grid_search.fit(train_set[selected_features], train_set['target'])"
      ],
      "metadata": {
        "id": "aVvG2EU6lFTR"
      },
      "execution_count": null,
      "outputs": []
    },
    {
      "cell_type": "markdown",
      "source": [
        ""
      ],
      "metadata": {
        "id": "NPLNPU-IclkY"
      }
    },
    {
      "cell_type": "code",
      "source": [
        "df_test = pd.read_csv('test.csv')\n",
        "\n",
        "for f in delay_features:\n",
        "    df_test[f'{f}_log'] = np.log1p(df_test[f])\n",
        "\n",
        "df_test['rating_mean'] = df_test.loc[:, rating_features].mean(axis=1)\n",
        "df_test['rating_std'] = df_test.loc[:, rating_features].std(axis=1)\n",
        "\n",
        "for f in selected_features:\n",
        "    if f in selected_cat_features:\n",
        "        df_test[f] = le.fit_transform(df_test[f].astype(str))\n",
        "\n",
        "df_test = df_test[selected_features]\n",
        "df_test.head()"
      ],
      "metadata": {
        "colab": {
          "base_uri": "https://localhost:8080/",
          "height": 305
        },
        "id": "80tpA2PhUo7Q",
        "outputId": "9f1e6516-a142-47d8-fe97-142ed035c038"
      },
      "execution_count": 39,
      "outputs": [
        {
          "output_type": "execute_result",
          "data": {
            "text/html": [
              "\n",
              "  <div id=\"df-031ceacc-5db9-44a8-bbd3-b898fdb43aa6\">\n",
              "    <div class=\"colab-df-container\">\n",
              "      <div>\n",
              "<style scoped>\n",
              "    .dataframe tbody tr th:only-of-type {\n",
              "        vertical-align: middle;\n",
              "    }\n",
              "\n",
              "    .dataframe tbody tr th {\n",
              "        vertical-align: top;\n",
              "    }\n",
              "\n",
              "    .dataframe thead th {\n",
              "        text-align: right;\n",
              "    }\n",
              "</style>\n",
              "<table border=\"1\" class=\"dataframe\">\n",
              "  <thead>\n",
              "    <tr style=\"text-align: right;\">\n",
              "      <th></th>\n",
              "      <th>Gender</th>\n",
              "      <th>Customer Type</th>\n",
              "      <th>Type of Travel</th>\n",
              "      <th>Class</th>\n",
              "      <th>Seat comfort</th>\n",
              "      <th>Food and drink</th>\n",
              "      <th>Inflight wifi service</th>\n",
              "      <th>Inflight entertainment</th>\n",
              "      <th>Online support</th>\n",
              "      <th>Ease of Online booking</th>\n",
              "      <th>On-board service</th>\n",
              "      <th>Leg room service</th>\n",
              "      <th>Baggage handling</th>\n",
              "      <th>Checkin service</th>\n",
              "      <th>Cleanliness</th>\n",
              "      <th>Online boarding</th>\n",
              "      <th>Age</th>\n",
              "      <th>Departure Delay in Minutes_log</th>\n",
              "      <th>Arrival Delay in Minutes_log</th>\n",
              "      <th>rating_mean</th>\n",
              "      <th>rating_std</th>\n",
              "    </tr>\n",
              "  </thead>\n",
              "  <tbody>\n",
              "    <tr>\n",
              "      <th>0</th>\n",
              "      <td>0</td>\n",
              "      <td>0</td>\n",
              "      <td>1</td>\n",
              "      <td>1</td>\n",
              "      <td>1</td>\n",
              "      <td>1</td>\n",
              "      <td>3</td>\n",
              "      <td>5</td>\n",
              "      <td>4</td>\n",
              "      <td>4</td>\n",
              "      <td>4</td>\n",
              "      <td>5</td>\n",
              "      <td>4</td>\n",
              "      <td>2</td>\n",
              "      <td>4</td>\n",
              "      <td>2</td>\n",
              "      <td>61</td>\n",
              "      <td>3.951244</td>\n",
              "      <td>4.077537</td>\n",
              "      <td>3.615385</td>\n",
              "      <td>1.709701</td>\n",
              "    </tr>\n",
              "    <tr>\n",
              "      <th>1</th>\n",
              "      <td>0</td>\n",
              "      <td>1</td>\n",
              "      <td>0</td>\n",
              "      <td>0</td>\n",
              "      <td>1</td>\n",
              "      <td>1</td>\n",
              "      <td>1</td>\n",
              "      <td>1</td>\n",
              "      <td>0</td>\n",
              "      <td>0</td>\n",
              "      <td>2</td>\n",
              "      <td>4</td>\n",
              "      <td>4</td>\n",
              "      <td>3</td>\n",
              "      <td>3</td>\n",
              "      <td>0</td>\n",
              "      <td>27</td>\n",
              "      <td>0.000000</td>\n",
              "      <td>0.000000</td>\n",
              "      <td>2.384615</td>\n",
              "      <td>1.609268</td>\n",
              "    </tr>\n",
              "    <tr>\n",
              "      <th>2</th>\n",
              "      <td>0</td>\n",
              "      <td>0</td>\n",
              "      <td>0</td>\n",
              "      <td>0</td>\n",
              "      <td>4</td>\n",
              "      <td>4</td>\n",
              "      <td>4</td>\n",
              "      <td>3</td>\n",
              "      <td>3</td>\n",
              "      <td>4</td>\n",
              "      <td>4</td>\n",
              "      <td>5</td>\n",
              "      <td>4</td>\n",
              "      <td>3</td>\n",
              "      <td>4</td>\n",
              "      <td>2</td>\n",
              "      <td>52</td>\n",
              "      <td>0.000000</td>\n",
              "      <td>0.000000</td>\n",
              "      <td>4.230769</td>\n",
              "      <td>0.725011</td>\n",
              "    </tr>\n",
              "    <tr>\n",
              "      <th>3</th>\n",
              "      <td>1</td>\n",
              "      <td>0</td>\n",
              "      <td>0</td>\n",
              "      <td>0</td>\n",
              "      <td>4</td>\n",
              "      <td>4</td>\n",
              "      <td>5</td>\n",
              "      <td>4</td>\n",
              "      <td>4</td>\n",
              "      <td>1</td>\n",
              "      <td>1</td>\n",
              "      <td>2</td>\n",
              "      <td>1</td>\n",
              "      <td>4</td>\n",
              "      <td>1</td>\n",
              "      <td>0</td>\n",
              "      <td>54</td>\n",
              "      <td>0.000000</td>\n",
              "      <td>0.000000</td>\n",
              "      <td>3.230769</td>\n",
              "      <td>1.423250</td>\n",
              "    </tr>\n",
              "    <tr>\n",
              "      <th>4</th>\n",
              "      <td>0</td>\n",
              "      <td>0</td>\n",
              "      <td>0</td>\n",
              "      <td>1</td>\n",
              "      <td>4</td>\n",
              "      <td>3</td>\n",
              "      <td>4</td>\n",
              "      <td>4</td>\n",
              "      <td>3</td>\n",
              "      <td>3</td>\n",
              "      <td>2</td>\n",
              "      <td>1</td>\n",
              "      <td>1</td>\n",
              "      <td>4</td>\n",
              "      <td>3</td>\n",
              "      <td>3</td>\n",
              "      <td>41</td>\n",
              "      <td>0.000000</td>\n",
              "      <td>0.000000</td>\n",
              "      <td>3.461538</td>\n",
              "      <td>1.050031</td>\n",
              "    </tr>\n",
              "  </tbody>\n",
              "</table>\n",
              "</div>\n",
              "      <button class=\"colab-df-convert\" onclick=\"convertToInteractive('df-031ceacc-5db9-44a8-bbd3-b898fdb43aa6')\"\n",
              "              title=\"Convert this dataframe to an interactive table.\"\n",
              "              style=\"display:none;\">\n",
              "        \n",
              "  <svg xmlns=\"http://www.w3.org/2000/svg\" height=\"24px\"viewBox=\"0 0 24 24\"\n",
              "       width=\"24px\">\n",
              "    <path d=\"M0 0h24v24H0V0z\" fill=\"none\"/>\n",
              "    <path d=\"M18.56 5.44l.94 2.06.94-2.06 2.06-.94-2.06-.94-.94-2.06-.94 2.06-2.06.94zm-11 1L8.5 8.5l.94-2.06 2.06-.94-2.06-.94L8.5 2.5l-.94 2.06-2.06.94zm10 10l.94 2.06.94-2.06 2.06-.94-2.06-.94-.94-2.06-.94 2.06-2.06.94z\"/><path d=\"M17.41 7.96l-1.37-1.37c-.4-.4-.92-.59-1.43-.59-.52 0-1.04.2-1.43.59L10.3 9.45l-7.72 7.72c-.78.78-.78 2.05 0 2.83L4 21.41c.39.39.9.59 1.41.59.51 0 1.02-.2 1.41-.59l7.78-7.78 2.81-2.81c.8-.78.8-2.07 0-2.86zM5.41 20L4 18.59l7.72-7.72 1.47 1.35L5.41 20z\"/>\n",
              "  </svg>\n",
              "      </button>\n",
              "      \n",
              "  <style>\n",
              "    .colab-df-container {\n",
              "      display:flex;\n",
              "      flex-wrap:wrap;\n",
              "      gap: 12px;\n",
              "    }\n",
              "\n",
              "    .colab-df-convert {\n",
              "      background-color: #E8F0FE;\n",
              "      border: none;\n",
              "      border-radius: 50%;\n",
              "      cursor: pointer;\n",
              "      display: none;\n",
              "      fill: #1967D2;\n",
              "      height: 32px;\n",
              "      padding: 0 0 0 0;\n",
              "      width: 32px;\n",
              "    }\n",
              "\n",
              "    .colab-df-convert:hover {\n",
              "      background-color: #E2EBFA;\n",
              "      box-shadow: 0px 1px 2px rgba(60, 64, 67, 0.3), 0px 1px 3px 1px rgba(60, 64, 67, 0.15);\n",
              "      fill: #174EA6;\n",
              "    }\n",
              "\n",
              "    [theme=dark] .colab-df-convert {\n",
              "      background-color: #3B4455;\n",
              "      fill: #D2E3FC;\n",
              "    }\n",
              "\n",
              "    [theme=dark] .colab-df-convert:hover {\n",
              "      background-color: #434B5C;\n",
              "      box-shadow: 0px 1px 3px 1px rgba(0, 0, 0, 0.15);\n",
              "      filter: drop-shadow(0px 1px 2px rgba(0, 0, 0, 0.3));\n",
              "      fill: #FFFFFF;\n",
              "    }\n",
              "  </style>\n",
              "\n",
              "      <script>\n",
              "        const buttonEl =\n",
              "          document.querySelector('#df-031ceacc-5db9-44a8-bbd3-b898fdb43aa6 button.colab-df-convert');\n",
              "        buttonEl.style.display =\n",
              "          google.colab.kernel.accessAllowed ? 'block' : 'none';\n",
              "\n",
              "        async function convertToInteractive(key) {\n",
              "          const element = document.querySelector('#df-031ceacc-5db9-44a8-bbd3-b898fdb43aa6');\n",
              "          const dataTable =\n",
              "            await google.colab.kernel.invokeFunction('convertToInteractive',\n",
              "                                                     [key], {});\n",
              "          if (!dataTable) return;\n",
              "\n",
              "          const docLinkHtml = 'Like what you see? Visit the ' +\n",
              "            '<a target=\"_blank\" href=https://colab.research.google.com/notebooks/data_table.ipynb>data table notebook</a>'\n",
              "            + ' to learn more about interactive tables.';\n",
              "          element.innerHTML = '';\n",
              "          dataTable['output_type'] = 'display_data';\n",
              "          await google.colab.output.renderOutput(dataTable, element);\n",
              "          const docLink = document.createElement('div');\n",
              "          docLink.innerHTML = docLinkHtml;\n",
              "          element.appendChild(docLink);\n",
              "        }\n",
              "      </script>\n",
              "    </div>\n",
              "  </div>\n",
              "  "
            ],
            "text/plain": [
              "   Gender  Customer Type  Type of Travel  Class  Seat comfort  Food and drink  \\\n",
              "0       0              0               1      1             1               1   \n",
              "1       0              1               0      0             1               1   \n",
              "2       0              0               0      0             4               4   \n",
              "3       1              0               0      0             4               4   \n",
              "4       0              0               0      1             4               3   \n",
              "\n",
              "   Inflight wifi service  Inflight entertainment  Online support  \\\n",
              "0                      3                       5               4   \n",
              "1                      1                       1               0   \n",
              "2                      4                       3               3   \n",
              "3                      5                       4               4   \n",
              "4                      4                       4               3   \n",
              "\n",
              "   Ease of Online booking  On-board service  Leg room service  \\\n",
              "0                       4                 4                 5   \n",
              "1                       0                 2                 4   \n",
              "2                       4                 4                 5   \n",
              "3                       1                 1                 2   \n",
              "4                       3                 2                 1   \n",
              "\n",
              "   Baggage handling  Checkin service  Cleanliness  Online boarding  Age  \\\n",
              "0                 4                2            4                2   61   \n",
              "1                 4                3            3                0   27   \n",
              "2                 4                3            4                2   52   \n",
              "3                 1                4            1                0   54   \n",
              "4                 1                4            3                3   41   \n",
              "\n",
              "   Departure Delay in Minutes_log  Arrival Delay in Minutes_log  rating_mean  \\\n",
              "0                        3.951244                      4.077537     3.615385   \n",
              "1                        0.000000                      0.000000     2.384615   \n",
              "2                        0.000000                      0.000000     4.230769   \n",
              "3                        0.000000                      0.000000     3.230769   \n",
              "4                        0.000000                      0.000000     3.461538   \n",
              "\n",
              "   rating_std  \n",
              "0    1.709701  \n",
              "1    1.609268  \n",
              "2    0.725011  \n",
              "3    1.423250  \n",
              "4    1.050031  "
            ]
          },
          "metadata": {},
          "execution_count": 39
        }
      ]
    },
    {
      "cell_type": "code",
      "source": [
        "df_test.shape"
      ],
      "metadata": {
        "colab": {
          "base_uri": "https://localhost:8080/"
        },
        "id": "fdTPqcw7A_JA",
        "outputId": "ef0cdca8-7c88-40af-d9ad-a469e3df1ff7"
      },
      "execution_count": 40,
      "outputs": [
        {
          "output_type": "execute_result",
          "data": {
            "text/plain": [
              "(2000, 21)"
            ]
          },
          "metadata": {},
          "execution_count": 40
        }
      ]
    },
    {
      "cell_type": "code",
      "source": [
        "probs = []\n",
        "for model in models:\n",
        "    prob = model.predict_proba(df_test[selected_features])\n",
        "    probs.append(prob)\n",
        "\n",
        "pred = sum(probs) / len(probs)\n",
        "pred = np.argmax(pred, axis=1)\n",
        "\n",
        "df_submit = pd.read_csv('sample_submission.csv')\n",
        "df_submit['target'] = pred\n",
        "df_submit.to_csv('/content/gdrive/MyDrive/Dacon/airline/0216_ver1.csv', index=False)"
      ],
      "metadata": {
        "id": "6K3gwlfzJ23j"
      },
      "execution_count": 42,
      "outputs": []
    },
    {
      "cell_type": "code",
      "source": [
        ""
      ],
      "metadata": {
        "id": "CeLM0KTjVP4t"
      },
      "execution_count": null,
      "outputs": []
    },
    {
      "cell_type": "code",
      "source": [
        ""
      ],
      "metadata": {
        "id": "W49zZkeP0Cm8"
      },
      "execution_count": null,
      "outputs": []
    }
  ]
}