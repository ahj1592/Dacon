{
  "nbformat": 4,
  "nbformat_minor": 0,
  "metadata": {
    "colab": {
      "name": "Dacon_airline_0217_ver2.ipynb",
      "provenance": []
    },
    "kernelspec": {
      "name": "python3",
      "display_name": "Python 3"
    },
    "language_info": {
      "name": "python"
    }
  },
  "cells": [
    {
      "cell_type": "code",
      "execution_count": 1,
      "metadata": {
        "colab": {
          "base_uri": "https://localhost:8080/"
        },
        "id": "trNiv5DfOWaX",
        "outputId": "501a86a1-cec4-4add-8a27-1b2e981b6271"
      },
      "outputs": [
        {
          "output_type": "stream",
          "name": "stdout",
          "text": [
            "Mounted at /content/gdrive/\n"
          ]
        }
      ],
      "source": [
        "from google.colab import drive \n",
        "drive.mount('/content/gdrive/')"
      ]
    },
    {
      "cell_type": "code",
      "source": [
        "!unzip /content/gdrive/MyDrive/Dacon/airline/airline_dataset.zip"
      ],
      "metadata": {
        "colab": {
          "base_uri": "https://localhost:8080/"
        },
        "id": "6Tizu0CzOfjJ",
        "outputId": "1b3bbd77-63d2-4e82-8aa4-203f5154c43d"
      },
      "execution_count": 2,
      "outputs": [
        {
          "output_type": "stream",
          "name": "stdout",
          "text": [
            "Archive:  /content/gdrive/MyDrive/Dacon/airline/airline_dataset.zip\n",
            "  inflating: sample_submission.csv   \n",
            "  inflating: test.csv                \n",
            "  inflating: train.csv               \n"
          ]
        }
      ]
    },
    {
      "cell_type": "code",
      "source": [
        "!pip install catboost"
      ],
      "metadata": {
        "colab": {
          "base_uri": "https://localhost:8080/"
        },
        "id": "klAtk_4Y-82c",
        "outputId": "2aab2a6d-c3f0-4948-c39b-9b67971f6a28"
      },
      "execution_count": 3,
      "outputs": [
        {
          "output_type": "stream",
          "name": "stdout",
          "text": [
            "Collecting catboost\n",
            "  Downloading catboost-1.0.4-cp37-none-manylinux1_x86_64.whl (76.1 MB)\n",
            "\u001b[K     |████████████████████████████████| 76.1 MB 1.2 MB/s \n",
            "\u001b[?25hRequirement already satisfied: scipy in /usr/local/lib/python3.7/dist-packages (from catboost) (1.4.1)\n",
            "Requirement already satisfied: graphviz in /usr/local/lib/python3.7/dist-packages (from catboost) (0.10.1)\n",
            "Requirement already satisfied: numpy>=1.16.0 in /usr/local/lib/python3.7/dist-packages (from catboost) (1.21.5)\n",
            "Requirement already satisfied: six in /usr/local/lib/python3.7/dist-packages (from catboost) (1.15.0)\n",
            "Requirement already satisfied: pandas>=0.24.0 in /usr/local/lib/python3.7/dist-packages (from catboost) (1.3.5)\n",
            "Requirement already satisfied: matplotlib in /usr/local/lib/python3.7/dist-packages (from catboost) (3.2.2)\n",
            "Requirement already satisfied: plotly in /usr/local/lib/python3.7/dist-packages (from catboost) (5.5.0)\n",
            "Requirement already satisfied: pytz>=2017.3 in /usr/local/lib/python3.7/dist-packages (from pandas>=0.24.0->catboost) (2018.9)\n",
            "Requirement already satisfied: python-dateutil>=2.7.3 in /usr/local/lib/python3.7/dist-packages (from pandas>=0.24.0->catboost) (2.8.2)\n",
            "Requirement already satisfied: kiwisolver>=1.0.1 in /usr/local/lib/python3.7/dist-packages (from matplotlib->catboost) (1.3.2)\n",
            "Requirement already satisfied: cycler>=0.10 in /usr/local/lib/python3.7/dist-packages (from matplotlib->catboost) (0.11.0)\n",
            "Requirement already satisfied: pyparsing!=2.0.4,!=2.1.2,!=2.1.6,>=2.0.1 in /usr/local/lib/python3.7/dist-packages (from matplotlib->catboost) (3.0.7)\n",
            "Requirement already satisfied: tenacity>=6.2.0 in /usr/local/lib/python3.7/dist-packages (from plotly->catboost) (8.0.1)\n",
            "Installing collected packages: catboost\n",
            "Successfully installed catboost-1.0.4\n"
          ]
        }
      ]
    },
    {
      "cell_type": "code",
      "source": [
        "import warnings\n",
        "warnings.filterwarnings(action='ignore')\n",
        "\n",
        "import numpy as np\n",
        "import pandas as pd\n",
        "pd.set_option('display.max_columns', None)\n",
        "from pandas.api.types import is_numeric_dtype, is_categorical_dtype\n",
        "\n",
        "import matplotlib.pyplot as plt\n",
        "import seaborn as sns\n",
        "\n",
        "import os\n",
        "import sys\n",
        "import random\n",
        "import copy\n",
        "\n",
        "from sklearn import preprocessing\n",
        "from sklearn.metrics import accuracy_score\n",
        "from sklearn.model_selection import StratifiedKFold\n",
        "from sklearn.model_selection import GridSearchCV\n",
        "from sklearn.ensemble import RandomForestClassifier\n",
        "\n",
        "from tqdm import tqdm\n",
        "from catboost import CatBoostClassifier"
      ],
      "metadata": {
        "id": "Wsi9Vb-8O7XE"
      },
      "execution_count": 4,
      "outputs": []
    },
    {
      "cell_type": "code",
      "source": [
        "print('===== Load data =====')\n",
        "df_train = pd.read_csv('train.csv')\n",
        "df_test = pd.read_csv('test.csv')\n",
        "\n",
        "# drop 'id' column\n",
        "df_train = df_train.drop('id', axis=1)\n",
        "df_test = df_test.drop('id', axis=1)\n",
        "\n",
        "print('The shape of train:', df_train.shape)\n",
        "print('The shape of test :', df_test.shape)\n",
        "print()\n",
        "\n",
        "print('===== Split Categorical/Numeric Features =====')\n",
        "cat_features = [] # categorical features\n",
        "num_features = [] # numeric features\n",
        "\n",
        "for f in df_train.columns:\n",
        "    if df_train[f].nunique() < 10 and f != 'target':\n",
        "        cat_features.append(f)\n",
        "        #df_train[f] = df_train[f].astype(np.object)\n",
        "    else:\n",
        "        num_features.append(f)\n",
        "\n",
        "\n",
        "print(f'Categorical Features: size: {len(cat_features)}\\n{cat_features}')\n",
        "print(f'Numeric Features: size: {len(num_features)}\\n {num_features}')"
      ],
      "metadata": {
        "colab": {
          "base_uri": "https://localhost:8080/"
        },
        "id": "IyqQHI6hPLLv",
        "outputId": "b108cb7b-9094-4d85-cf85-333c7f9985ee"
      },
      "execution_count": 99,
      "outputs": [
        {
          "output_type": "stream",
          "name": "stdout",
          "text": [
            "===== Load data =====\n",
            "The shape of train: (3000, 23)\n",
            "The shape of test : (2000, 22)\n",
            "\n",
            "===== Split Categorical/Numeric Features =====\n",
            "Categorical Features: size: 18\n",
            "['Gender', 'Customer Type', 'Type of Travel', 'Class', 'Seat comfort', 'Departure/Arrival time convenient', 'Food and drink', 'Gate location', 'Inflight wifi service', 'Inflight entertainment', 'Online support', 'Ease of Online booking', 'On-board service', 'Leg room service', 'Baggage handling', 'Checkin service', 'Cleanliness', 'Online boarding']\n",
            "Numeric Features: size: 5\n",
            " ['Age', 'Flight Distance', 'Departure Delay in Minutes', 'Arrival Delay in Minutes', 'target']\n"
          ]
        }
      ]
    },
    {
      "cell_type": "code",
      "source": [
        "# replace missing value(0) to NaN(np.nan)\n",
        "def replace_missing_values(df_input, columns):\n",
        "    df = df_input.copy()\n",
        "    df[columns] = df[columns].replace({0:np.nan, '0':np.nan})\n",
        "\n",
        "    return df"
      ],
      "metadata": {
        "id": "kYxjMxwp_MBp"
      },
      "execution_count": 100,
      "outputs": []
    },
    {
      "cell_type": "code",
      "source": [
        "df_train = replace_missing_values(df_train, cat_features)\n",
        "df_test = replace_missing_values(df_test, cat_features)\n",
        "\n",
        "print(df_train.shape)\n",
        "print(df_test.shape)"
      ],
      "metadata": {
        "colab": {
          "base_uri": "https://localhost:8080/"
        },
        "id": "rqn08YclNC0-",
        "outputId": "e45815d2-b617-4f63-8638-711755d0e30f"
      },
      "execution_count": 101,
      "outputs": [
        {
          "output_type": "stream",
          "name": "stdout",
          "text": [
            "(3000, 23)\n",
            "(2000, 22)\n"
          ]
        }
      ]
    },
    {
      "cell_type": "code",
      "source": [
        "def get_rate(score):\n",
        "    if score > 3:\n",
        "        return 'Positive'\n",
        "    elif score == 3:\n",
        "        return 'Neutral'\n",
        "    elif score < 3: # missing value\n",
        "        return 'Negative'\n",
        "    else:\n",
        "        return 'Unknown'\n",
        "\n",
        "def make_rate_features(df_input, cat_features):\n",
        "    df = df_input.copy()\n",
        "    new_cat_features = []\n",
        "\n",
        "    for f in cat_features:\n",
        "        if df[f].nunique() > 3:\n",
        "            df[f'{f}_rate'] = df[f].apply(lambda x: get_rate(x))\n",
        "            new_cat_features.append(f'{f}_rate')\n",
        "    \n",
        "    return df, new_cat_features"
      ],
      "metadata": {
        "id": "EEVYaP54d-nm"
      },
      "execution_count": 102,
      "outputs": []
    },
    {
      "cell_type": "code",
      "source": [
        "df_train, new_cat_features = make_rate_features(df_train, cat_features)\n",
        "df_test, new_cat_features = make_rate_features(df_test, cat_features)\n",
        "\n",
        "print(df_train.shape, df_test.shape)\n",
        "print(len(new_cat_features))\n",
        "print(new_cat_features)\n",
        "\n",
        "cat_features += new_cat_features\n",
        "print(len(cat_features))\n",
        "print(cat_features)"
      ],
      "metadata": {
        "colab": {
          "base_uri": "https://localhost:8080/"
        },
        "id": "BjA9gJOTu2OG",
        "outputId": "8dba302a-bbd7-4a7b-8c17-9af4067d9856"
      },
      "execution_count": 103,
      "outputs": [
        {
          "output_type": "stream",
          "name": "stdout",
          "text": [
            "(3000, 37) (2000, 36)\n",
            "14\n",
            "['Seat comfort_rate', 'Departure/Arrival time convenient_rate', 'Food and drink_rate', 'Gate location_rate', 'Inflight wifi service_rate', 'Inflight entertainment_rate', 'Online support_rate', 'Ease of Online booking_rate', 'On-board service_rate', 'Leg room service_rate', 'Baggage handling_rate', 'Checkin service_rate', 'Cleanliness_rate', 'Online boarding_rate']\n",
            "32\n",
            "['Gender', 'Customer Type', 'Type of Travel', 'Class', 'Seat comfort', 'Departure/Arrival time convenient', 'Food and drink', 'Gate location', 'Inflight wifi service', 'Inflight entertainment', 'Online support', 'Ease of Online booking', 'On-board service', 'Leg room service', 'Baggage handling', 'Checkin service', 'Cleanliness', 'Online boarding', 'Seat comfort_rate', 'Departure/Arrival time convenient_rate', 'Food and drink_rate', 'Gate location_rate', 'Inflight wifi service_rate', 'Inflight entertainment_rate', 'Online support_rate', 'Ease of Online booking_rate', 'On-board service_rate', 'Leg room service_rate', 'Baggage handling_rate', 'Checkin service_rate', 'Cleanliness_rate', 'Online boarding_rate']\n"
          ]
        }
      ]
    },
    {
      "cell_type": "code",
      "source": [
        "def log_scaling(df_input, columns):\n",
        "    df = df_input.copy()\n",
        "    log_columns = []\n",
        "    for f in columns:\n",
        "        df[f'{f}_log'] = np.log1p(df[f])\n",
        "        log_columns.append(f'{f}_log')\n",
        "\n",
        "    return df, log_columns"
      ],
      "metadata": {
        "id": "NH_qP-5JwCeo"
      },
      "execution_count": 104,
      "outputs": []
    },
    {
      "cell_type": "code",
      "source": [
        "df_train, log_features = log_scaling(df_train, ['Departure Delay in Minutes', 'Arrival Delay in Minutes'])\n",
        "df_test, log_features = log_scaling(df_test, ['Departure Delay in Minutes', 'Arrival Delay in Minutes'])\n",
        "\n",
        "print(df_train.shape)\n",
        "print(df_test.shape)\n",
        "\n",
        "print(len(log_features))\n",
        "print(log_features)\n",
        "num_features += log_features\n",
        "print(len(num_features))\n",
        "print(num_features)"
      ],
      "metadata": {
        "colab": {
          "base_uri": "https://localhost:8080/"
        },
        "id": "Sz72BnPOxBq-",
        "outputId": "21b88caa-83fb-4533-ba66-40e4550660ea"
      },
      "execution_count": 105,
      "outputs": [
        {
          "output_type": "stream",
          "name": "stdout",
          "text": [
            "(3000, 39)\n",
            "(2000, 38)\n",
            "2\n",
            "['Departure Delay in Minutes_log', 'Arrival Delay in Minutes_log']\n",
            "7\n",
            "['Age', 'Flight Distance', 'Departure Delay in Minutes', 'Arrival Delay in Minutes', 'target', 'Departure Delay in Minutes_log', 'Arrival Delay in Minutes_log']\n"
          ]
        }
      ]
    },
    {
      "cell_type": "code",
      "source": [
        "rating_features = []\n",
        "for f in new_cat_features:\n",
        "    #print(f[:-5]) # remove '_rate'\n",
        "    rating_features.append(f[:-5])\n",
        "\n",
        "print(rating_features)"
      ],
      "metadata": {
        "colab": {
          "base_uri": "https://localhost:8080/"
        },
        "id": "lApg2zsWzIxA",
        "outputId": "164ecc31-3332-4608-b365-6b5982817fd3"
      },
      "execution_count": 106,
      "outputs": [
        {
          "output_type": "stream",
          "name": "stdout",
          "text": [
            "['Seat comfort', 'Departure/Arrival time convenient', 'Food and drink', 'Gate location', 'Inflight wifi service', 'Inflight entertainment', 'Online support', 'Ease of Online booking', 'On-board service', 'Leg room service', 'Baggage handling', 'Checkin service', 'Cleanliness', 'Online boarding']\n"
          ]
        }
      ]
    },
    {
      "cell_type": "code",
      "source": [
        "def set_static_features(df_input):\n",
        "    df = df_input.copy()\n",
        "    df['rating_mean'] = df.loc[:, rating_features].mean(axis=1)\n",
        "    df['rating_std'] = df.loc[:, rating_features].std(axis=1)\n",
        "    df['is_delay'] = np.where(df[log_features[0]] + df[log_features[1]] >= 1, True, False)\n",
        "\n",
        "    return df"
      ],
      "metadata": {
        "id": "q7ZcM--kOzUw"
      },
      "execution_count": 107,
      "outputs": []
    },
    {
      "cell_type": "code",
      "source": [
        "df_train = set_static_features(df_train)\n",
        "df_test = set_static_features(df_test)\n",
        "\n",
        "print(df_train.shape)\n",
        "print(df_test.shape)\n",
        "df_train.head(2)"
      ],
      "metadata": {
        "colab": {
          "base_uri": "https://localhost:8080/",
          "height": 298
        },
        "id": "8T7zmplA8ynd",
        "outputId": "46662193-33d6-4130-a999-1171886458d1"
      },
      "execution_count": 108,
      "outputs": [
        {
          "output_type": "stream",
          "name": "stdout",
          "text": [
            "(3000, 42)\n",
            "(2000, 41)\n"
          ]
        },
        {
          "output_type": "execute_result",
          "data": {
            "text/html": [
              "\n",
              "  <div id=\"df-02b13a50-0ec7-4d84-bc91-dadfdcaadf4a\">\n",
              "    <div class=\"colab-df-container\">\n",
              "      <div>\n",
              "<style scoped>\n",
              "    .dataframe tbody tr th:only-of-type {\n",
              "        vertical-align: middle;\n",
              "    }\n",
              "\n",
              "    .dataframe tbody tr th {\n",
              "        vertical-align: top;\n",
              "    }\n",
              "\n",
              "    .dataframe thead th {\n",
              "        text-align: right;\n",
              "    }\n",
              "</style>\n",
              "<table border=\"1\" class=\"dataframe\">\n",
              "  <thead>\n",
              "    <tr style=\"text-align: right;\">\n",
              "      <th></th>\n",
              "      <th>Gender</th>\n",
              "      <th>Customer Type</th>\n",
              "      <th>Age</th>\n",
              "      <th>Type of Travel</th>\n",
              "      <th>Class</th>\n",
              "      <th>Flight Distance</th>\n",
              "      <th>Seat comfort</th>\n",
              "      <th>Departure/Arrival time convenient</th>\n",
              "      <th>Food and drink</th>\n",
              "      <th>Gate location</th>\n",
              "      <th>Inflight wifi service</th>\n",
              "      <th>Inflight entertainment</th>\n",
              "      <th>Online support</th>\n",
              "      <th>Ease of Online booking</th>\n",
              "      <th>On-board service</th>\n",
              "      <th>Leg room service</th>\n",
              "      <th>Baggage handling</th>\n",
              "      <th>Checkin service</th>\n",
              "      <th>Cleanliness</th>\n",
              "      <th>Online boarding</th>\n",
              "      <th>Departure Delay in Minutes</th>\n",
              "      <th>Arrival Delay in Minutes</th>\n",
              "      <th>target</th>\n",
              "      <th>Seat comfort_rate</th>\n",
              "      <th>Departure/Arrival time convenient_rate</th>\n",
              "      <th>Food and drink_rate</th>\n",
              "      <th>Gate location_rate</th>\n",
              "      <th>Inflight wifi service_rate</th>\n",
              "      <th>Inflight entertainment_rate</th>\n",
              "      <th>Online support_rate</th>\n",
              "      <th>Ease of Online booking_rate</th>\n",
              "      <th>On-board service_rate</th>\n",
              "      <th>Leg room service_rate</th>\n",
              "      <th>Baggage handling_rate</th>\n",
              "      <th>Checkin service_rate</th>\n",
              "      <th>Cleanliness_rate</th>\n",
              "      <th>Online boarding_rate</th>\n",
              "      <th>Departure Delay in Minutes_log</th>\n",
              "      <th>Arrival Delay in Minutes_log</th>\n",
              "      <th>rating_mean</th>\n",
              "      <th>rating_std</th>\n",
              "      <th>is_delay</th>\n",
              "    </tr>\n",
              "  </thead>\n",
              "  <tbody>\n",
              "    <tr>\n",
              "      <th>0</th>\n",
              "      <td>Female</td>\n",
              "      <td>disloyal Customer</td>\n",
              "      <td>22</td>\n",
              "      <td>Business travel</td>\n",
              "      <td>Eco</td>\n",
              "      <td>1599</td>\n",
              "      <td>3.0</td>\n",
              "      <td>NaN</td>\n",
              "      <td>3.0</td>\n",
              "      <td>3.0</td>\n",
              "      <td>4.0</td>\n",
              "      <td>3.0</td>\n",
              "      <td>4.0</td>\n",
              "      <td>4.0</td>\n",
              "      <td>5.0</td>\n",
              "      <td>4.0</td>\n",
              "      <td>4.0</td>\n",
              "      <td>4.0</td>\n",
              "      <td>5.0</td>\n",
              "      <td>4.0</td>\n",
              "      <td>0</td>\n",
              "      <td>0.0</td>\n",
              "      <td>0</td>\n",
              "      <td>Neutral</td>\n",
              "      <td>Unknown</td>\n",
              "      <td>Neutral</td>\n",
              "      <td>Neutral</td>\n",
              "      <td>Positive</td>\n",
              "      <td>Neutral</td>\n",
              "      <td>Positive</td>\n",
              "      <td>Positive</td>\n",
              "      <td>Positive</td>\n",
              "      <td>Positive</td>\n",
              "      <td>Positive</td>\n",
              "      <td>Positive</td>\n",
              "      <td>Positive</td>\n",
              "      <td>Positive</td>\n",
              "      <td>0.000000</td>\n",
              "      <td>0.000000</td>\n",
              "      <td>3.846154</td>\n",
              "      <td>0.688737</td>\n",
              "      <td>False</td>\n",
              "    </tr>\n",
              "    <tr>\n",
              "      <th>1</th>\n",
              "      <td>Female</td>\n",
              "      <td>Loyal Customer</td>\n",
              "      <td>37</td>\n",
              "      <td>Business travel</td>\n",
              "      <td>Business</td>\n",
              "      <td>2810</td>\n",
              "      <td>2.0</td>\n",
              "      <td>4.0</td>\n",
              "      <td>4.0</td>\n",
              "      <td>4.0</td>\n",
              "      <td>1.0</td>\n",
              "      <td>4.0</td>\n",
              "      <td>3.0</td>\n",
              "      <td>5.0</td>\n",
              "      <td>5.0</td>\n",
              "      <td>4.0</td>\n",
              "      <td>2.0</td>\n",
              "      <td>1.0</td>\n",
              "      <td>5.0</td>\n",
              "      <td>2.0</td>\n",
              "      <td>18</td>\n",
              "      <td>18.0</td>\n",
              "      <td>0</td>\n",
              "      <td>Negative</td>\n",
              "      <td>Positive</td>\n",
              "      <td>Positive</td>\n",
              "      <td>Positive</td>\n",
              "      <td>Negative</td>\n",
              "      <td>Positive</td>\n",
              "      <td>Neutral</td>\n",
              "      <td>Positive</td>\n",
              "      <td>Positive</td>\n",
              "      <td>Positive</td>\n",
              "      <td>Negative</td>\n",
              "      <td>Negative</td>\n",
              "      <td>Positive</td>\n",
              "      <td>Negative</td>\n",
              "      <td>2.944439</td>\n",
              "      <td>2.944439</td>\n",
              "      <td>3.285714</td>\n",
              "      <td>1.437336</td>\n",
              "      <td>True</td>\n",
              "    </tr>\n",
              "  </tbody>\n",
              "</table>\n",
              "</div>\n",
              "      <button class=\"colab-df-convert\" onclick=\"convertToInteractive('df-02b13a50-0ec7-4d84-bc91-dadfdcaadf4a')\"\n",
              "              title=\"Convert this dataframe to an interactive table.\"\n",
              "              style=\"display:none;\">\n",
              "        \n",
              "  <svg xmlns=\"http://www.w3.org/2000/svg\" height=\"24px\"viewBox=\"0 0 24 24\"\n",
              "       width=\"24px\">\n",
              "    <path d=\"M0 0h24v24H0V0z\" fill=\"none\"/>\n",
              "    <path d=\"M18.56 5.44l.94 2.06.94-2.06 2.06-.94-2.06-.94-.94-2.06-.94 2.06-2.06.94zm-11 1L8.5 8.5l.94-2.06 2.06-.94-2.06-.94L8.5 2.5l-.94 2.06-2.06.94zm10 10l.94 2.06.94-2.06 2.06-.94-2.06-.94-.94-2.06-.94 2.06-2.06.94z\"/><path d=\"M17.41 7.96l-1.37-1.37c-.4-.4-.92-.59-1.43-.59-.52 0-1.04.2-1.43.59L10.3 9.45l-7.72 7.72c-.78.78-.78 2.05 0 2.83L4 21.41c.39.39.9.59 1.41.59.51 0 1.02-.2 1.41-.59l7.78-7.78 2.81-2.81c.8-.78.8-2.07 0-2.86zM5.41 20L4 18.59l7.72-7.72 1.47 1.35L5.41 20z\"/>\n",
              "  </svg>\n",
              "      </button>\n",
              "      \n",
              "  <style>\n",
              "    .colab-df-container {\n",
              "      display:flex;\n",
              "      flex-wrap:wrap;\n",
              "      gap: 12px;\n",
              "    }\n",
              "\n",
              "    .colab-df-convert {\n",
              "      background-color: #E8F0FE;\n",
              "      border: none;\n",
              "      border-radius: 50%;\n",
              "      cursor: pointer;\n",
              "      display: none;\n",
              "      fill: #1967D2;\n",
              "      height: 32px;\n",
              "      padding: 0 0 0 0;\n",
              "      width: 32px;\n",
              "    }\n",
              "\n",
              "    .colab-df-convert:hover {\n",
              "      background-color: #E2EBFA;\n",
              "      box-shadow: 0px 1px 2px rgba(60, 64, 67, 0.3), 0px 1px 3px 1px rgba(60, 64, 67, 0.15);\n",
              "      fill: #174EA6;\n",
              "    }\n",
              "\n",
              "    [theme=dark] .colab-df-convert {\n",
              "      background-color: #3B4455;\n",
              "      fill: #D2E3FC;\n",
              "    }\n",
              "\n",
              "    [theme=dark] .colab-df-convert:hover {\n",
              "      background-color: #434B5C;\n",
              "      box-shadow: 0px 1px 3px 1px rgba(0, 0, 0, 0.15);\n",
              "      filter: drop-shadow(0px 1px 2px rgba(0, 0, 0, 0.3));\n",
              "      fill: #FFFFFF;\n",
              "    }\n",
              "  </style>\n",
              "\n",
              "      <script>\n",
              "        const buttonEl =\n",
              "          document.querySelector('#df-02b13a50-0ec7-4d84-bc91-dadfdcaadf4a button.colab-df-convert');\n",
              "        buttonEl.style.display =\n",
              "          google.colab.kernel.accessAllowed ? 'block' : 'none';\n",
              "\n",
              "        async function convertToInteractive(key) {\n",
              "          const element = document.querySelector('#df-02b13a50-0ec7-4d84-bc91-dadfdcaadf4a');\n",
              "          const dataTable =\n",
              "            await google.colab.kernel.invokeFunction('convertToInteractive',\n",
              "                                                     [key], {});\n",
              "          if (!dataTable) return;\n",
              "\n",
              "          const docLinkHtml = 'Like what you see? Visit the ' +\n",
              "            '<a target=\"_blank\" href=https://colab.research.google.com/notebooks/data_table.ipynb>data table notebook</a>'\n",
              "            + ' to learn more about interactive tables.';\n",
              "          element.innerHTML = '';\n",
              "          dataTable['output_type'] = 'display_data';\n",
              "          await google.colab.output.renderOutput(dataTable, element);\n",
              "          const docLink = document.createElement('div');\n",
              "          docLink.innerHTML = docLinkHtml;\n",
              "          element.appendChild(docLink);\n",
              "        }\n",
              "      </script>\n",
              "    </div>\n",
              "  </div>\n",
              "  "
            ],
            "text/plain": [
              "   Gender      Customer Type  Age   Type of Travel     Class  Flight Distance  \\\n",
              "0  Female  disloyal Customer   22  Business travel       Eco             1599   \n",
              "1  Female     Loyal Customer   37  Business travel  Business             2810   \n",
              "\n",
              "   Seat comfort  Departure/Arrival time convenient  Food and drink  \\\n",
              "0           3.0                                NaN             3.0   \n",
              "1           2.0                                4.0             4.0   \n",
              "\n",
              "   Gate location  Inflight wifi service  Inflight entertainment  \\\n",
              "0            3.0                    4.0                     3.0   \n",
              "1            4.0                    1.0                     4.0   \n",
              "\n",
              "   Online support  Ease of Online booking  On-board service  Leg room service  \\\n",
              "0             4.0                     4.0               5.0               4.0   \n",
              "1             3.0                     5.0               5.0               4.0   \n",
              "\n",
              "   Baggage handling  Checkin service  Cleanliness  Online boarding  \\\n",
              "0               4.0              4.0          5.0              4.0   \n",
              "1               2.0              1.0          5.0              2.0   \n",
              "\n",
              "   Departure Delay in Minutes  Arrival Delay in Minutes  target  \\\n",
              "0                           0                       0.0       0   \n",
              "1                          18                      18.0       0   \n",
              "\n",
              "  Seat comfort_rate Departure/Arrival time convenient_rate  \\\n",
              "0           Neutral                                Unknown   \n",
              "1          Negative                               Positive   \n",
              "\n",
              "  Food and drink_rate Gate location_rate Inflight wifi service_rate  \\\n",
              "0             Neutral            Neutral                   Positive   \n",
              "1            Positive           Positive                   Negative   \n",
              "\n",
              "  Inflight entertainment_rate Online support_rate Ease of Online booking_rate  \\\n",
              "0                     Neutral            Positive                    Positive   \n",
              "1                    Positive             Neutral                    Positive   \n",
              "\n",
              "  On-board service_rate Leg room service_rate Baggage handling_rate  \\\n",
              "0              Positive              Positive              Positive   \n",
              "1              Positive              Positive              Negative   \n",
              "\n",
              "  Checkin service_rate Cleanliness_rate Online boarding_rate  \\\n",
              "0             Positive         Positive             Positive   \n",
              "1             Negative         Positive             Negative   \n",
              "\n",
              "   Departure Delay in Minutes_log  Arrival Delay in Minutes_log  rating_mean  \\\n",
              "0                        0.000000                      0.000000     3.846154   \n",
              "1                        2.944439                      2.944439     3.285714   \n",
              "\n",
              "   rating_std  is_delay  \n",
              "0    0.688737     False  \n",
              "1    1.437336      True  "
            ]
          },
          "metadata": {},
          "execution_count": 108
        }
      ]
    },
    {
      "cell_type": "code",
      "source": [
        "selected_features = cat_features + num_features + ['rating_mean', 'rating_std'] + ['is_delay']\n",
        "print(len(selected_features))"
      ],
      "metadata": {
        "colab": {
          "base_uri": "https://localhost:8080/"
        },
        "id": "anZD1E5f-XUA",
        "outputId": "b138e91a-5140-44ca-df86-1d5cbe359d16"
      },
      "execution_count": 110,
      "outputs": [
        {
          "output_type": "stream",
          "name": "stdout",
          "text": [
            "42\n"
          ]
        }
      ]
    },
    {
      "cell_type": "markdown",
      "source": [
        "# Label Encoding\n",
        "- missing value 0이 있으므로 Ordinal Encoding은 할 수 없음\n",
        "- 결측치 처리 대신 NaN으로 처리되기를 기대할 수 있음"
      ],
      "metadata": {
        "id": "gqszdHLy_bEM"
      }
    },
    {
      "cell_type": "code",
      "source": [
        "le = preprocessing.LabelEncoder()\n",
        "for f in cat_features:\n",
        "    df_train[f] = le.fit_transform(df_train[f].astype(str)) \n",
        "    df_test[f] = le.fit_transform(df_test[f].astype(str))\n",
        "\n",
        "print(df_train.shape)\n",
        "print(df_test.shape)\n",
        "df_train.head(2)"
      ],
      "metadata": {
        "colab": {
          "base_uri": "https://localhost:8080/",
          "height": 263
        },
        "id": "eBbKZD3lQEHR",
        "outputId": "e0e6eac8-34c0-4f12-f667-7a92353484bf"
      },
      "execution_count": 111,
      "outputs": [
        {
          "output_type": "stream",
          "name": "stdout",
          "text": [
            "(3000, 42)\n",
            "(2000, 41)\n"
          ]
        },
        {
          "output_type": "execute_result",
          "data": {
            "text/html": [
              "\n",
              "  <div id=\"df-ae01df12-c07f-4256-9050-7610e797dbe3\">\n",
              "    <div class=\"colab-df-container\">\n",
              "      <div>\n",
              "<style scoped>\n",
              "    .dataframe tbody tr th:only-of-type {\n",
              "        vertical-align: middle;\n",
              "    }\n",
              "\n",
              "    .dataframe tbody tr th {\n",
              "        vertical-align: top;\n",
              "    }\n",
              "\n",
              "    .dataframe thead th {\n",
              "        text-align: right;\n",
              "    }\n",
              "</style>\n",
              "<table border=\"1\" class=\"dataframe\">\n",
              "  <thead>\n",
              "    <tr style=\"text-align: right;\">\n",
              "      <th></th>\n",
              "      <th>Gender</th>\n",
              "      <th>Customer Type</th>\n",
              "      <th>Age</th>\n",
              "      <th>Type of Travel</th>\n",
              "      <th>Class</th>\n",
              "      <th>Flight Distance</th>\n",
              "      <th>Seat comfort</th>\n",
              "      <th>Departure/Arrival time convenient</th>\n",
              "      <th>Food and drink</th>\n",
              "      <th>Gate location</th>\n",
              "      <th>Inflight wifi service</th>\n",
              "      <th>Inflight entertainment</th>\n",
              "      <th>Online support</th>\n",
              "      <th>Ease of Online booking</th>\n",
              "      <th>On-board service</th>\n",
              "      <th>Leg room service</th>\n",
              "      <th>Baggage handling</th>\n",
              "      <th>Checkin service</th>\n",
              "      <th>Cleanliness</th>\n",
              "      <th>Online boarding</th>\n",
              "      <th>Departure Delay in Minutes</th>\n",
              "      <th>Arrival Delay in Minutes</th>\n",
              "      <th>target</th>\n",
              "      <th>Seat comfort_rate</th>\n",
              "      <th>Departure/Arrival time convenient_rate</th>\n",
              "      <th>Food and drink_rate</th>\n",
              "      <th>Gate location_rate</th>\n",
              "      <th>Inflight wifi service_rate</th>\n",
              "      <th>Inflight entertainment_rate</th>\n",
              "      <th>Online support_rate</th>\n",
              "      <th>Ease of Online booking_rate</th>\n",
              "      <th>On-board service_rate</th>\n",
              "      <th>Leg room service_rate</th>\n",
              "      <th>Baggage handling_rate</th>\n",
              "      <th>Checkin service_rate</th>\n",
              "      <th>Cleanliness_rate</th>\n",
              "      <th>Online boarding_rate</th>\n",
              "      <th>Departure Delay in Minutes_log</th>\n",
              "      <th>Arrival Delay in Minutes_log</th>\n",
              "      <th>rating_mean</th>\n",
              "      <th>rating_std</th>\n",
              "      <th>is_delay</th>\n",
              "    </tr>\n",
              "  </thead>\n",
              "  <tbody>\n",
              "    <tr>\n",
              "      <th>0</th>\n",
              "      <td>0</td>\n",
              "      <td>1</td>\n",
              "      <td>22</td>\n",
              "      <td>0</td>\n",
              "      <td>1</td>\n",
              "      <td>1599</td>\n",
              "      <td>2</td>\n",
              "      <td>5</td>\n",
              "      <td>2</td>\n",
              "      <td>2</td>\n",
              "      <td>3</td>\n",
              "      <td>2</td>\n",
              "      <td>3</td>\n",
              "      <td>3</td>\n",
              "      <td>4</td>\n",
              "      <td>3</td>\n",
              "      <td>3</td>\n",
              "      <td>3</td>\n",
              "      <td>4</td>\n",
              "      <td>3</td>\n",
              "      <td>0</td>\n",
              "      <td>0.0</td>\n",
              "      <td>0</td>\n",
              "      <td>1</td>\n",
              "      <td>3</td>\n",
              "      <td>1</td>\n",
              "      <td>1</td>\n",
              "      <td>2</td>\n",
              "      <td>1</td>\n",
              "      <td>2</td>\n",
              "      <td>2</td>\n",
              "      <td>2</td>\n",
              "      <td>2</td>\n",
              "      <td>2</td>\n",
              "      <td>2</td>\n",
              "      <td>2</td>\n",
              "      <td>2</td>\n",
              "      <td>0.000000</td>\n",
              "      <td>0.000000</td>\n",
              "      <td>3.846154</td>\n",
              "      <td>0.688737</td>\n",
              "      <td>False</td>\n",
              "    </tr>\n",
              "    <tr>\n",
              "      <th>1</th>\n",
              "      <td>0</td>\n",
              "      <td>0</td>\n",
              "      <td>37</td>\n",
              "      <td>0</td>\n",
              "      <td>0</td>\n",
              "      <td>2810</td>\n",
              "      <td>1</td>\n",
              "      <td>3</td>\n",
              "      <td>3</td>\n",
              "      <td>3</td>\n",
              "      <td>0</td>\n",
              "      <td>3</td>\n",
              "      <td>2</td>\n",
              "      <td>4</td>\n",
              "      <td>4</td>\n",
              "      <td>3</td>\n",
              "      <td>1</td>\n",
              "      <td>0</td>\n",
              "      <td>4</td>\n",
              "      <td>1</td>\n",
              "      <td>18</td>\n",
              "      <td>18.0</td>\n",
              "      <td>0</td>\n",
              "      <td>0</td>\n",
              "      <td>2</td>\n",
              "      <td>2</td>\n",
              "      <td>2</td>\n",
              "      <td>0</td>\n",
              "      <td>2</td>\n",
              "      <td>1</td>\n",
              "      <td>2</td>\n",
              "      <td>2</td>\n",
              "      <td>2</td>\n",
              "      <td>0</td>\n",
              "      <td>0</td>\n",
              "      <td>2</td>\n",
              "      <td>0</td>\n",
              "      <td>2.944439</td>\n",
              "      <td>2.944439</td>\n",
              "      <td>3.285714</td>\n",
              "      <td>1.437336</td>\n",
              "      <td>True</td>\n",
              "    </tr>\n",
              "  </tbody>\n",
              "</table>\n",
              "</div>\n",
              "      <button class=\"colab-df-convert\" onclick=\"convertToInteractive('df-ae01df12-c07f-4256-9050-7610e797dbe3')\"\n",
              "              title=\"Convert this dataframe to an interactive table.\"\n",
              "              style=\"display:none;\">\n",
              "        \n",
              "  <svg xmlns=\"http://www.w3.org/2000/svg\" height=\"24px\"viewBox=\"0 0 24 24\"\n",
              "       width=\"24px\">\n",
              "    <path d=\"M0 0h24v24H0V0z\" fill=\"none\"/>\n",
              "    <path d=\"M18.56 5.44l.94 2.06.94-2.06 2.06-.94-2.06-.94-.94-2.06-.94 2.06-2.06.94zm-11 1L8.5 8.5l.94-2.06 2.06-.94-2.06-.94L8.5 2.5l-.94 2.06-2.06.94zm10 10l.94 2.06.94-2.06 2.06-.94-2.06-.94-.94-2.06-.94 2.06-2.06.94z\"/><path d=\"M17.41 7.96l-1.37-1.37c-.4-.4-.92-.59-1.43-.59-.52 0-1.04.2-1.43.59L10.3 9.45l-7.72 7.72c-.78.78-.78 2.05 0 2.83L4 21.41c.39.39.9.59 1.41.59.51 0 1.02-.2 1.41-.59l7.78-7.78 2.81-2.81c.8-.78.8-2.07 0-2.86zM5.41 20L4 18.59l7.72-7.72 1.47 1.35L5.41 20z\"/>\n",
              "  </svg>\n",
              "      </button>\n",
              "      \n",
              "  <style>\n",
              "    .colab-df-container {\n",
              "      display:flex;\n",
              "      flex-wrap:wrap;\n",
              "      gap: 12px;\n",
              "    }\n",
              "\n",
              "    .colab-df-convert {\n",
              "      background-color: #E8F0FE;\n",
              "      border: none;\n",
              "      border-radius: 50%;\n",
              "      cursor: pointer;\n",
              "      display: none;\n",
              "      fill: #1967D2;\n",
              "      height: 32px;\n",
              "      padding: 0 0 0 0;\n",
              "      width: 32px;\n",
              "    }\n",
              "\n",
              "    .colab-df-convert:hover {\n",
              "      background-color: #E2EBFA;\n",
              "      box-shadow: 0px 1px 2px rgba(60, 64, 67, 0.3), 0px 1px 3px 1px rgba(60, 64, 67, 0.15);\n",
              "      fill: #174EA6;\n",
              "    }\n",
              "\n",
              "    [theme=dark] .colab-df-convert {\n",
              "      background-color: #3B4455;\n",
              "      fill: #D2E3FC;\n",
              "    }\n",
              "\n",
              "    [theme=dark] .colab-df-convert:hover {\n",
              "      background-color: #434B5C;\n",
              "      box-shadow: 0px 1px 3px 1px rgba(0, 0, 0, 0.15);\n",
              "      filter: drop-shadow(0px 1px 2px rgba(0, 0, 0, 0.3));\n",
              "      fill: #FFFFFF;\n",
              "    }\n",
              "  </style>\n",
              "\n",
              "      <script>\n",
              "        const buttonEl =\n",
              "          document.querySelector('#df-ae01df12-c07f-4256-9050-7610e797dbe3 button.colab-df-convert');\n",
              "        buttonEl.style.display =\n",
              "          google.colab.kernel.accessAllowed ? 'block' : 'none';\n",
              "\n",
              "        async function convertToInteractive(key) {\n",
              "          const element = document.querySelector('#df-ae01df12-c07f-4256-9050-7610e797dbe3');\n",
              "          const dataTable =\n",
              "            await google.colab.kernel.invokeFunction('convertToInteractive',\n",
              "                                                     [key], {});\n",
              "          if (!dataTable) return;\n",
              "\n",
              "          const docLinkHtml = 'Like what you see? Visit the ' +\n",
              "            '<a target=\"_blank\" href=https://colab.research.google.com/notebooks/data_table.ipynb>data table notebook</a>'\n",
              "            + ' to learn more about interactive tables.';\n",
              "          element.innerHTML = '';\n",
              "          dataTable['output_type'] = 'display_data';\n",
              "          await google.colab.output.renderOutput(dataTable, element);\n",
              "          const docLink = document.createElement('div');\n",
              "          docLink.innerHTML = docLinkHtml;\n",
              "          element.appendChild(docLink);\n",
              "        }\n",
              "      </script>\n",
              "    </div>\n",
              "  </div>\n",
              "  "
            ],
            "text/plain": [
              "   Gender  Customer Type  Age  Type of Travel  Class  Flight Distance  \\\n",
              "0       0              1   22               0      1             1599   \n",
              "1       0              0   37               0      0             2810   \n",
              "\n",
              "   Seat comfort  Departure/Arrival time convenient  Food and drink  \\\n",
              "0             2                                  5               2   \n",
              "1             1                                  3               3   \n",
              "\n",
              "   Gate location  Inflight wifi service  Inflight entertainment  \\\n",
              "0              2                      3                       2   \n",
              "1              3                      0                       3   \n",
              "\n",
              "   Online support  Ease of Online booking  On-board service  Leg room service  \\\n",
              "0               3                       3                 4                 3   \n",
              "1               2                       4                 4                 3   \n",
              "\n",
              "   Baggage handling  Checkin service  Cleanliness  Online boarding  \\\n",
              "0                 3                3            4                3   \n",
              "1                 1                0            4                1   \n",
              "\n",
              "   Departure Delay in Minutes  Arrival Delay in Minutes  target  \\\n",
              "0                           0                       0.0       0   \n",
              "1                          18                      18.0       0   \n",
              "\n",
              "   Seat comfort_rate  Departure/Arrival time convenient_rate  \\\n",
              "0                  1                                       3   \n",
              "1                  0                                       2   \n",
              "\n",
              "   Food and drink_rate  Gate location_rate  Inflight wifi service_rate  \\\n",
              "0                    1                   1                           2   \n",
              "1                    2                   2                           0   \n",
              "\n",
              "   Inflight entertainment_rate  Online support_rate  \\\n",
              "0                            1                    2   \n",
              "1                            2                    1   \n",
              "\n",
              "   Ease of Online booking_rate  On-board service_rate  Leg room service_rate  \\\n",
              "0                            2                      2                      2   \n",
              "1                            2                      2                      2   \n",
              "\n",
              "   Baggage handling_rate  Checkin service_rate  Cleanliness_rate  \\\n",
              "0                      2                     2                 2   \n",
              "1                      0                     0                 2   \n",
              "\n",
              "   Online boarding_rate  Departure Delay in Minutes_log  \\\n",
              "0                     2                        0.000000   \n",
              "1                     0                        2.944439   \n",
              "\n",
              "   Arrival Delay in Minutes_log  rating_mean  rating_std  is_delay  \n",
              "0                      0.000000     3.846154    0.688737     False  \n",
              "1                      2.944439     3.285714    1.437336      True  "
            ]
          },
          "metadata": {},
          "execution_count": 111
        }
      ]
    },
    {
      "cell_type": "markdown",
      "source": [
        "# 상관계수 파악\n",
        "- target이 있는 마지막 줄에 주목\n",
        "- Gate location, Flight Distance는 상관계수가 0에 가까움 -> feature 제거 고려?"
      ],
      "metadata": {
        "id": "YRUpuQcl_pdg"
      }
    },
    {
      "cell_type": "code",
      "source": [
        "tmp_feature_dict = {i: 0 for i in selected_features}\n",
        "del tmp_feature_dict['target']\n",
        "selected_features = [f for f in tmp_feature_dict.keys()]\n",
        "print(len(selected_features))"
      ],
      "metadata": {
        "colab": {
          "base_uri": "https://localhost:8080/"
        },
        "id": "bfEN9drQCnOy",
        "outputId": "fcf7a5b4-e7cd-486a-9995-06f112676119"
      },
      "execution_count": 112,
      "outputs": [
        {
          "output_type": "stream",
          "name": "stdout",
          "text": [
            "41\n"
          ]
        }
      ]
    },
    {
      "cell_type": "code",
      "source": [
        "corr = df_train[selected_features + ['target']].corr() # Compute the correlation matrix\n",
        "mask = np.triu(np.ones_like(corr, dtype=bool))  # Generate a mask for the upper triangle\n",
        "cmap = sns.diverging_palette(230, 20, as_cmap=True)\n",
        "sns.heatmap(corr, mask=mask, cmap=cmap, vmin=-1., vmax=1., center=0,\n",
        "                square=True, linewidths=.5, cbar_kws={\"shrink\": .5})\n",
        "plt.show()"
      ],
      "metadata": {
        "colab": {
          "base_uri": "https://localhost:8080/",
          "height": 416
        },
        "id": "eYDbg7iVOCLB",
        "outputId": "f5673589-a507-4099-f37e-9394ca754eb4"
      },
      "execution_count": 113,
      "outputs": [
        {
          "output_type": "display_data",
          "data": {
            "image/png": "[encoded data removed]",
            "text/plain": [
              "<Figure size 432x288 with 2 Axes>"
            ]
          },
          "metadata": {
            "needs_background": "light"
          }
        }
      ]
    },
    {
      "cell_type": "code",
      "source": [
        "remove_features = []\n",
        "CORR_THRESHOLD = 0.1\n",
        "for f in corr.columns[:-1]:\n",
        "    if np.abs(corr[f]['target']) < CORR_THRESHOLD:\n",
        "        remove_features.append(f)\n",
        "print(f'Correlation under {CORR_THRESHOLD}: {len(remove_features)}\\n{remove_features}')\n",
        "\n",
        "tmp_features = {k: 0 for k in selected_features}\n",
        "for f in remove_features:\n",
        "    if f in selected_features:\n",
        "        del tmp_features[f]\n",
        "final_features = [f for f in tmp_features.keys()]\n",
        "del tmp_features\n",
        "\n",
        "print(len(final_features), final_features)"
      ],
      "metadata": {
        "colab": {
          "base_uri": "https://localhost:8080/"
        },
        "id": "-m7qsxZcYxqY",
        "outputId": "ef8bf8cf-4f08-4c79-c987-3b95fa8d38e9"
      },
      "execution_count": 121,
      "outputs": [
        {
          "output_type": "stream",
          "name": "stdout",
          "text": [
            "Correlation under 0.1: 7\n",
            "['Departure/Arrival time convenient', 'Gate location', 'Departure/Arrival time convenient_rate', 'Gate location_rate', 'Flight Distance', 'rating_std', 'is_delay']\n",
            "34 ['Gender', 'Customer Type', 'Type of Travel', 'Class', 'Seat comfort', 'Food and drink', 'Inflight wifi service', 'Inflight entertainment', 'Online support', 'Ease of Online booking', 'On-board service', 'Leg room service', 'Baggage handling', 'Checkin service', 'Cleanliness', 'Online boarding', 'Seat comfort_rate', 'Food and drink_rate', 'Inflight wifi service_rate', 'Inflight entertainment_rate', 'Online support_rate', 'Ease of Online booking_rate', 'On-board service_rate', 'Leg room service_rate', 'Baggage handling_rate', 'Checkin service_rate', 'Cleanliness_rate', 'Online boarding_rate', 'Age', 'Departure Delay in Minutes', 'Arrival Delay in Minutes', 'Departure Delay in Minutes_log', 'Arrival Delay in Minutes_log', 'rating_mean']\n"
          ]
        }
      ]
    },
    {
      "cell_type": "code",
      "source": [
        "train_set = df_train[final_features + ['target']]\n",
        "print(train_set.shape)\n",
        "train_set.head(2)"
      ],
      "metadata": {
        "colab": {
          "base_uri": "https://localhost:8080/",
          "height": 245
        },
        "id": "vHfQilAEoxZH",
        "outputId": "faa0e376-89f7-4e80-d390-fa1a22287d42"
      },
      "execution_count": 122,
      "outputs": [
        {
          "output_type": "stream",
          "name": "stdout",
          "text": [
            "(3000, 35)\n"
          ]
        },
        {
          "output_type": "execute_result",
          "data": {
            "text/html": [
              "\n",
              "  <div id=\"df-6ea78c7e-5ded-4e1b-9039-caccfdd8ea0e\">\n",
              "    <div class=\"colab-df-container\">\n",
              "      <div>\n",
              "<style scoped>\n",
              "    .dataframe tbody tr th:only-of-type {\n",
              "        vertical-align: middle;\n",
              "    }\n",
              "\n",
              "    .dataframe tbody tr th {\n",
              "        vertical-align: top;\n",
              "    }\n",
              "\n",
              "    .dataframe thead th {\n",
              "        text-align: right;\n",
              "    }\n",
              "</style>\n",
              "<table border=\"1\" class=\"dataframe\">\n",
              "  <thead>\n",
              "    <tr style=\"text-align: right;\">\n",
              "      <th></th>\n",
              "      <th>Gender</th>\n",
              "      <th>Customer Type</th>\n",
              "      <th>Type of Travel</th>\n",
              "      <th>Class</th>\n",
              "      <th>Seat comfort</th>\n",
              "      <th>Food and drink</th>\n",
              "      <th>Inflight wifi service</th>\n",
              "      <th>Inflight entertainment</th>\n",
              "      <th>Online support</th>\n",
              "      <th>Ease of Online booking</th>\n",
              "      <th>On-board service</th>\n",
              "      <th>Leg room service</th>\n",
              "      <th>Baggage handling</th>\n",
              "      <th>Checkin service</th>\n",
              "      <th>Cleanliness</th>\n",
              "      <th>Online boarding</th>\n",
              "      <th>Seat comfort_rate</th>\n",
              "      <th>Food and drink_rate</th>\n",
              "      <th>Inflight wifi service_rate</th>\n",
              "      <th>Inflight entertainment_rate</th>\n",
              "      <th>Online support_rate</th>\n",
              "      <th>Ease of Online booking_rate</th>\n",
              "      <th>On-board service_rate</th>\n",
              "      <th>Leg room service_rate</th>\n",
              "      <th>Baggage handling_rate</th>\n",
              "      <th>Checkin service_rate</th>\n",
              "      <th>Cleanliness_rate</th>\n",
              "      <th>Online boarding_rate</th>\n",
              "      <th>Age</th>\n",
              "      <th>Departure Delay in Minutes</th>\n",
              "      <th>Arrival Delay in Minutes</th>\n",
              "      <th>Departure Delay in Minutes_log</th>\n",
              "      <th>Arrival Delay in Minutes_log</th>\n",
              "      <th>rating_mean</th>\n",
              "      <th>target</th>\n",
              "    </tr>\n",
              "  </thead>\n",
              "  <tbody>\n",
              "    <tr>\n",
              "      <th>0</th>\n",
              "      <td>0</td>\n",
              "      <td>1</td>\n",
              "      <td>0</td>\n",
              "      <td>1</td>\n",
              "      <td>2</td>\n",
              "      <td>2</td>\n",
              "      <td>3</td>\n",
              "      <td>2</td>\n",
              "      <td>3</td>\n",
              "      <td>3</td>\n",
              "      <td>4</td>\n",
              "      <td>3</td>\n",
              "      <td>3</td>\n",
              "      <td>3</td>\n",
              "      <td>4</td>\n",
              "      <td>3</td>\n",
              "      <td>1</td>\n",
              "      <td>1</td>\n",
              "      <td>2</td>\n",
              "      <td>1</td>\n",
              "      <td>2</td>\n",
              "      <td>2</td>\n",
              "      <td>2</td>\n",
              "      <td>2</td>\n",
              "      <td>2</td>\n",
              "      <td>2</td>\n",
              "      <td>2</td>\n",
              "      <td>2</td>\n",
              "      <td>22</td>\n",
              "      <td>0</td>\n",
              "      <td>0.0</td>\n",
              "      <td>0.000000</td>\n",
              "      <td>0.000000</td>\n",
              "      <td>3.846154</td>\n",
              "      <td>0</td>\n",
              "    </tr>\n",
              "    <tr>\n",
              "      <th>1</th>\n",
              "      <td>0</td>\n",
              "      <td>0</td>\n",
              "      <td>0</td>\n",
              "      <td>0</td>\n",
              "      <td>1</td>\n",
              "      <td>3</td>\n",
              "      <td>0</td>\n",
              "      <td>3</td>\n",
              "      <td>2</td>\n",
              "      <td>4</td>\n",
              "      <td>4</td>\n",
              "      <td>3</td>\n",
              "      <td>1</td>\n",
              "      <td>0</td>\n",
              "      <td>4</td>\n",
              "      <td>1</td>\n",
              "      <td>0</td>\n",
              "      <td>2</td>\n",
              "      <td>0</td>\n",
              "      <td>2</td>\n",
              "      <td>1</td>\n",
              "      <td>2</td>\n",
              "      <td>2</td>\n",
              "      <td>2</td>\n",
              "      <td>0</td>\n",
              "      <td>0</td>\n",
              "      <td>2</td>\n",
              "      <td>0</td>\n",
              "      <td>37</td>\n",
              "      <td>18</td>\n",
              "      <td>18.0</td>\n",
              "      <td>2.944439</td>\n",
              "      <td>2.944439</td>\n",
              "      <td>3.285714</td>\n",
              "      <td>0</td>\n",
              "    </tr>\n",
              "  </tbody>\n",
              "</table>\n",
              "</div>\n",
              "      <button class=\"colab-df-convert\" onclick=\"convertToInteractive('df-6ea78c7e-5ded-4e1b-9039-caccfdd8ea0e')\"\n",
              "              title=\"Convert this dataframe to an interactive table.\"\n",
              "              style=\"display:none;\">\n",
              "        \n",
              "  <svg xmlns=\"http://www.w3.org/2000/svg\" height=\"24px\"viewBox=\"0 0 24 24\"\n",
              "       width=\"24px\">\n",
              "    <path d=\"M0 0h24v24H0V0z\" fill=\"none\"/>\n",
              "    <path d=\"M18.56 5.44l.94 2.06.94-2.06 2.06-.94-2.06-.94-.94-2.06-.94 2.06-2.06.94zm-11 1L8.5 8.5l.94-2.06 2.06-.94-2.06-.94L8.5 2.5l-.94 2.06-2.06.94zm10 10l.94 2.06.94-2.06 2.06-.94-2.06-.94-.94-2.06-.94 2.06-2.06.94z\"/><path d=\"M17.41 7.96l-1.37-1.37c-.4-.4-.92-.59-1.43-.59-.52 0-1.04.2-1.43.59L10.3 9.45l-7.72 7.72c-.78.78-.78 2.05 0 2.83L4 21.41c.39.39.9.59 1.41.59.51 0 1.02-.2 1.41-.59l7.78-7.78 2.81-2.81c.8-.78.8-2.07 0-2.86zM5.41 20L4 18.59l7.72-7.72 1.47 1.35L5.41 20z\"/>\n",
              "  </svg>\n",
              "      </button>\n",
              "      \n",
              "  <style>\n",
              "    .colab-df-container {\n",
              "      display:flex;\n",
              "      flex-wrap:wrap;\n",
              "      gap: 12px;\n",
              "    }\n",
              "\n",
              "    .colab-df-convert {\n",
              "      background-color: #E8F0FE;\n",
              "      border: none;\n",
              "      border-radius: 50%;\n",
              "      cursor: pointer;\n",
              "      display: none;\n",
              "      fill: #1967D2;\n",
              "      height: 32px;\n",
              "      padding: 0 0 0 0;\n",
              "      width: 32px;\n",
              "    }\n",
              "\n",
              "    .colab-df-convert:hover {\n",
              "      background-color: #E2EBFA;\n",
              "      box-shadow: 0px 1px 2px rgba(60, 64, 67, 0.3), 0px 1px 3px 1px rgba(60, 64, 67, 0.15);\n",
              "      fill: #174EA6;\n",
              "    }\n",
              "\n",
              "    [theme=dark] .colab-df-convert {\n",
              "      background-color: #3B4455;\n",
              "      fill: #D2E3FC;\n",
              "    }\n",
              "\n",
              "    [theme=dark] .colab-df-convert:hover {\n",
              "      background-color: #434B5C;\n",
              "      box-shadow: 0px 1px 3px 1px rgba(0, 0, 0, 0.15);\n",
              "      filter: drop-shadow(0px 1px 2px rgba(0, 0, 0, 0.3));\n",
              "      fill: #FFFFFF;\n",
              "    }\n",
              "  </style>\n",
              "\n",
              "      <script>\n",
              "        const buttonEl =\n",
              "          document.querySelector('#df-6ea78c7e-5ded-4e1b-9039-caccfdd8ea0e button.colab-df-convert');\n",
              "        buttonEl.style.display =\n",
              "          google.colab.kernel.accessAllowed ? 'block' : 'none';\n",
              "\n",
              "        async function convertToInteractive(key) {\n",
              "          const element = document.querySelector('#df-6ea78c7e-5ded-4e1b-9039-caccfdd8ea0e');\n",
              "          const dataTable =\n",
              "            await google.colab.kernel.invokeFunction('convertToInteractive',\n",
              "                                                     [key], {});\n",
              "          if (!dataTable) return;\n",
              "\n",
              "          const docLinkHtml = 'Like what you see? Visit the ' +\n",
              "            '<a target=\"_blank\" href=https://colab.research.google.com/notebooks/data_table.ipynb>data table notebook</a>'\n",
              "            + ' to learn more about interactive tables.';\n",
              "          element.innerHTML = '';\n",
              "          dataTable['output_type'] = 'display_data';\n",
              "          await google.colab.output.renderOutput(dataTable, element);\n",
              "          const docLink = document.createElement('div');\n",
              "          docLink.innerHTML = docLinkHtml;\n",
              "          element.appendChild(docLink);\n",
              "        }\n",
              "      </script>\n",
              "    </div>\n",
              "  </div>\n",
              "  "
            ],
            "text/plain": [
              "   Gender  Customer Type  Type of Travel  Class  Seat comfort  Food and drink  \\\n",
              "0       0              1               0      1             2               2   \n",
              "1       0              0               0      0             1               3   \n",
              "\n",
              "   Inflight wifi service  Inflight entertainment  Online support  \\\n",
              "0                      3                       2               3   \n",
              "1                      0                       3               2   \n",
              "\n",
              "   Ease of Online booking  On-board service  Leg room service  \\\n",
              "0                       3                 4                 3   \n",
              "1                       4                 4                 3   \n",
              "\n",
              "   Baggage handling  Checkin service  Cleanliness  Online boarding  \\\n",
              "0                 3                3            4                3   \n",
              "1                 1                0            4                1   \n",
              "\n",
              "   Seat comfort_rate  Food and drink_rate  Inflight wifi service_rate  \\\n",
              "0                  1                    1                           2   \n",
              "1                  0                    2                           0   \n",
              "\n",
              "   Inflight entertainment_rate  Online support_rate  \\\n",
              "0                            1                    2   \n",
              "1                            2                    1   \n",
              "\n",
              "   Ease of Online booking_rate  On-board service_rate  Leg room service_rate  \\\n",
              "0                            2                      2                      2   \n",
              "1                            2                      2                      2   \n",
              "\n",
              "   Baggage handling_rate  Checkin service_rate  Cleanliness_rate  \\\n",
              "0                      2                     2                 2   \n",
              "1                      0                     0                 2   \n",
              "\n",
              "   Online boarding_rate  Age  Departure Delay in Minutes  \\\n",
              "0                     2   22                           0   \n",
              "1                     0   37                          18   \n",
              "\n",
              "   Arrival Delay in Minutes  Departure Delay in Minutes_log  \\\n",
              "0                       0.0                        0.000000   \n",
              "1                      18.0                        2.944439   \n",
              "\n",
              "   Arrival Delay in Minutes_log  rating_mean  target  \n",
              "0                      0.000000     3.846154       0  \n",
              "1                      2.944439     3.285714       0  "
            ]
          },
          "metadata": {},
          "execution_count": 122
        }
      ]
    },
    {
      "cell_type": "code",
      "source": [
        "def set_seed(seed=42):\n",
        "    random.seed(seed)\n",
        "    os.environ['PYTHONHASHSEED'] = str(seed)\n",
        "    np.random.seed(seed)"
      ],
      "metadata": {
        "id": "I0HJG7kv3f5Z"
      },
      "execution_count": 123,
      "outputs": []
    },
    {
      "cell_type": "code",
      "source": [
        "SEED = 7777\n",
        "N_SPLITS = 5\n",
        "N_ESTIMATORS = 5000\n",
        "\n",
        "params = {\n",
        "    'n_estimators': N_ESTIMATORS, \n",
        "    'n_jobs': -1, \n",
        "    'random_state': SEED,\n",
        "}\n",
        "\n",
        "cbt_params = {\n",
        "    'silent': True,\n",
        "    'n_estimators': N_ESTIMATORS, \n",
        "    'learning_rate': 0.015,\n",
        "    'random_state': SEED,\n",
        "    'depth': 10,\n",
        "    #'min_data_in_leaf': 4,\n",
        "    #'cat_features': selected_cat_features \n",
        "}\n",
        "\n",
        "models = []\n",
        "scores = []\n",
        "set_seed(SEED)\n",
        "\n",
        "folds = StratifiedKFold(n_splits=N_SPLITS, shuffle=True)\n",
        "for fold, (train_idx, valid_idx) in enumerate(folds.split(train_set[final_features], train_set['target'])):\n",
        "    X_train = train_set.loc[train_idx][final_features]\n",
        "    y_train = train_set.loc[train_idx]['target']\n",
        "    X_valid = train_set.loc[valid_idx][final_features]\n",
        "    y_valid = train_set.loc[valid_idx]['target']\n",
        "   \n",
        "    #model = RandomForestClassifier(**params)\n",
        "    model = CatBoostClassifier(**cbt_params)\n",
        "    model.fit(X_train, y_train)\n",
        "    models.append(model)\n",
        "    p_valid = model.predict(X_valid)\n",
        "    acc = accuracy_score(y_valid, p_valid)\n",
        "    scores.append(acc)\n",
        "    print(f'#{fold} Accuracy: {acc}')\n",
        "print(np.mean(scores))"
      ],
      "metadata": {
        "colab": {
          "base_uri": "https://localhost:8080/"
        },
        "id": "scziiBoSbkc2",
        "outputId": "1595d6c2-bc72-42f5-b950-c1866a79b601"
      },
      "execution_count": 126,
      "outputs": [
        {
          "output_type": "stream",
          "name": "stdout",
          "text": [
            "#0 Accuracy: 0.9283333333333333\n",
            "#1 Accuracy: 0.9183333333333333\n",
            "#2 Accuracy: 0.925\n",
            "#3 Accuracy: 0.9133333333333333\n",
            "#4 Accuracy: 0.9333333333333333\n",
            "0.9236666666666666\n"
          ]
        }
      ]
    },
    {
      "cell_type": "code",
      "source": [
        "# grid_param = {\n",
        "#     'n_estimators': [5000],\n",
        "#     'learning_rate': [0.015],\n",
        "#     'depth': [4, 6, 8],\n",
        "#     #'min_data_in_leaf': [4, 8, 12, 16],\n",
        "#     #'num_leaves': [4, 8, 12, 16],\n",
        "#     #'l2_leaf_reg': [1, 3, 5, 7]\n",
        "# }\n",
        "\n",
        "# cbt_clf = CatBoostClassifier(silent = True)\n",
        "\n",
        "# grid_search = GridSearchCV(\n",
        "#     estimator = cbt_clf, \n",
        "#     param_grid = grid_param, \n",
        "#     cv = 5, \n",
        "#     n_jobs = 1, \n",
        "#     verbose = 3,\n",
        "#     scoring='accuracy',\n",
        "# )\n",
        "\n",
        "# grid_search.fit(train_set[final_features], train_set['target'])\n",
        "\n",
        "# print(grid_search.best_params_)"
      ],
      "metadata": {
        "id": "aVvG2EU6lFTR"
      },
      "execution_count": 118,
      "outputs": []
    },
    {
      "cell_type": "markdown",
      "source": [
        ""
      ],
      "metadata": {
        "id": "NPLNPU-IclkY"
      }
    },
    {
      "cell_type": "code",
      "source": [
        "probs = []\n",
        "for model in models:\n",
        "    prob = model.predict_proba(df_test[final_features])\n",
        "    probs.append(prob)\n",
        "\n",
        "pred = sum(probs) / len(probs)\n",
        "pred = np.argmax(pred, axis=1)\n",
        "\n",
        "df_submit = pd.read_csv('sample_submission.csv')\n",
        "df_submit['target'] = pred\n",
        "df_submit.to_csv('/content/gdrive/MyDrive/Dacon/airline/0217_ver2.csv', index=False)"
      ],
      "metadata": {
        "id": "6K3gwlfzJ23j"
      },
      "execution_count": 127,
      "outputs": []
    },
    {
      "cell_type": "code",
      "source": [
        ""
      ],
      "metadata": {
        "id": "CeLM0KTjVP4t"
      },
      "execution_count": null,
      "outputs": []
    },
    {
      "cell_type": "code",
      "source": [
        ""
      ],
      "metadata": {
        "id": "W49zZkeP0Cm8"
      },
      "execution_count": null,
      "outputs": []
    }
  ]
}